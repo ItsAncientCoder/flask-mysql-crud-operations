{
 "cells": [
  {
   "cell_type": "code",
   "execution_count": 1,
   "metadata": {},
   "outputs": [
    {
     "name": "stdout",
     "output_type": "stream",
     "text": [
      "{'adhocMargin': None,\n",
      " 'applicableMargin': 100.0,\n",
      " 'averagePrice': 1426.01,\n",
      " 'basePrice': 1436.45,\n",
      " 'bcEndDate': None,\n",
      " 'bcStartDate': None,\n",
      " 'buyPrice1': None,\n",
      " 'buyPrice2': None,\n",
      " 'buyPrice3': None,\n",
      " 'buyPrice4': None,\n",
      " 'buyPrice5': None,\n",
      " 'buyQuantity1': None,\n",
      " 'buyQuantity2': None,\n",
      " 'buyQuantity3': None,\n",
      " 'buyQuantity4': None,\n",
      " 'buyQuantity5': None,\n",
      " 'change': '-8.20',\n",
      " 'closePrice': 1431.2,\n",
      " 'cm_adj_high_dt': '25-OCT-19',\n",
      " 'cm_adj_low_dt': '25-OCT-18',\n",
      " 'cm_ffm': 489917.78,\n",
      " 'companyName': 'Reliance Industries Limited',\n",
      " 'css_status_desc': 'Listed',\n",
      " 'dayHigh': 1441.45,\n",
      " 'dayLow': 1411.25,\n",
      " 'deliveryQuantity': 1995488.0,\n",
      " 'deliveryToTradedQuantity': 32.24,\n",
      " 'exDate': '02-AUG-19',\n",
      " 'extremeLossMargin': None,\n",
      " 'faceValue': 10.0,\n",
      " 'high52': 1441.45,\n",
      " 'indexVar': None,\n",
      " 'isExDateFlag': False,\n",
      " 'isinCode': 'INE002A01018',\n",
      " 'lastPrice': 1428.25,\n",
      " 'low52': 1016.4,\n",
      " 'marketType': 'N',\n",
      " 'ndEndDate': None,\n",
      " 'ndStartDate': None,\n",
      " 'open': 1441.1,\n",
      " 'pChange': '-0.57',\n",
      " 'previousClose': 1436.45,\n",
      " 'priceBand': 'No Band',\n",
      " 'pricebandlower': 1292.85,\n",
      " 'pricebandupper': 1580.05,\n",
      " 'purpose': 'ANNUAL GENERAL MEETING/DIVIDEND - RS 6.50 PER SHARE',\n",
      " 'quantityTraded': 6190013.0,\n",
      " 'recordDate': '05-AUG-19',\n",
      " 'secDate': '25-Oct-2019 00:00:00',\n",
      " 'securityVar': 100.0,\n",
      " 'sellPrice1': 1431.2,\n",
      " 'sellPrice2': None,\n",
      " 'sellPrice3': None,\n",
      " 'sellPrice4': None,\n",
      " 'sellPrice5': None,\n",
      " 'sellQuantity1': 953.0,\n",
      " 'sellQuantity2': None,\n",
      " 'sellQuantity3': None,\n",
      " 'sellQuantity4': None,\n",
      " 'sellQuantity5': None,\n",
      " 'series': 'EQ',\n",
      " 'surv_indicator': None,\n",
      " 'symbol': 'RELIANCE',\n",
      " 'totalBuyQuantity': None,\n",
      " 'totalSellQuantity': 953.0,\n",
      " 'totalTradedValue': 88270.2,\n",
      " 'totalTradedVolume': 6190013.0,\n",
      " 'varMargin': 100.0}\n"
     ]
    }
   ],
   "source": [
    "from nsetools import Nse\n",
    "from pprint import pprint\n",
    "\n",
    "nse = Nse()\n",
    "r = nse.get_quote('RELIANCE')\n",
    "pprint(r)\n",
    "q = nse.get_top_gainers()\n",
    "#pprint(q)"
   ]
  },
  {
   "cell_type": "code",
   "execution_count": 38,
   "metadata": {},
   "outputs": [
    {
     "name": "stdout",
     "output_type": "stream",
     "text": [
      "YESBANK 53.7 --> Annual General Meeting/ Dividend - Rs 2 Per Share\n",
      "SBIN 282.35 --> Annual General Meeting/ Change In Registrar And Transfer Agent\n",
      "ICICIBANK 469.2 --> Annual General Meeting/Dividend - Re 1 Per Share\n",
      "CIPLA 459.6 --> Annual General Meeting/Dividend - Rs 3 Per Share\n",
      "SUNPHARMA 416.35 --> Annual General Meeting/Dividend - Rs 2.75 Per Share\n",
      "BPCL 523.05 --> Dividend - Rs 8 Per Share\n",
      "TCS 2121.6 --> Interim Dividend - Rs 5 Per Share And Special Dividend - Rs 40 Per Share\n",
      "EICHERMOT 21365.0 --> Annual General Meeting/ Dividend - Rs 125 Per Share\n",
      "WIPRO 253.0 --> Buyback\n",
      "HCLTECH 1134.05 --> Interim Dividend - Rs 2 Per Sh\n"
     ]
    }
   ],
   "source": [
    "sharesAndAnnouncemnts = list()\n",
    "for i in q:\n",
    "    sharesAndAnnouncemnts.append((i['symbol'], i['ltp'], i['lastCorpAnnouncement']))\n",
    "\n",
    "for i,j,k in sharesAndAnnouncemnts:\n",
    "    print(i,j,'-->',k)"
   ]
  },
  {
   "cell_type": "code",
   "execution_count": 39,
   "metadata": {},
   "outputs": [
    {
     "name": "stdout",
     "output_type": "stream",
     "text": [
      "YESBANK-53.7  --> Annual General Meeting/ Dividend - Rs 2 Per Share\n",
      "SBIN-282.35  --> Annual General Meeting/ Change In Registrar And Transfer Agent\n",
      "ICICIBANK-469.2  --> Annual General Meeting/Dividend - Re 1 Per Share\n",
      "CIPLA-459.6  --> Annual General Meeting/Dividend - Rs 3 Per Share\n",
      "SUNPHARMA-416.35  --> Annual General Meeting/Dividend - Rs 2.75 Per Share\n",
      "BPCL-523.05  --> Dividend - Rs 8 Per Share\n",
      "TCS-2121.6  --> Interim Dividend - Rs 5 Per Share And Special Dividend - Rs 40 Per Share\n",
      "EICHERMOT-21365.0  --> Annual General Meeting/ Dividend - Rs 125 Per Share\n",
      "WIPRO-253.0  --> Buyback\n",
      "HCLTECH-1134.05  --> Interim Dividend - Rs 2 Per Sh\n"
     ]
    }
   ],
   "source": [
    "shares_announcemnts = dict()\n",
    "for i in q:\n",
    "    shares_announcemnts[i['symbol'] +'-'+ str(i['ltp'])] = i['lastCorpAnnouncement']\n",
    "\n",
    "for i,j in shares_announcemnts.items():\n",
    "    print(i,' -->',j)"
   ]
  },
  {
   "cell_type": "code",
   "execution_count": 40,
   "metadata": {},
   "outputs": [
    {
     "name": "stdout",
     "output_type": "stream",
     "text": [
      "    def get_quote(self, code, as_json=False):\n",
      "        \"\"\"\n",
      "        gets the quote for a given stock code\n",
      "        :param code:\n",
      "        :return: dict or None\n",
      "        :raises: HTTPError, URLError\n",
      "        \"\"\"\n",
      "        code = code.upper()\n",
      "        if self.is_valid_code(code):\n",
      "            url = self.build_url_for_quote(code)\n",
      "            req = Request(url, None, self.headers)\n",
      "            # this can raise HTTPError and URLError, but we are not handling it\n",
      "            # north bound APIs should use it for exception handling\n",
      "            res = self.opener.open(req)\n",
      "\n",
      "            # for py3 compat covert byte file like object to\n",
      "            # string file like object\n",
      "            res = byte_adaptor(res)\n",
      "            res = res.read()\n",
      "            # Now parse the response to get the relevant data\n",
      "            match = re.search(\\\n",
      "                        r'<div\\s+id=\"responseDiv\"\\s+style=\"display:none\">(.*?)</div>',\n",
      "                        res, re.S\n",
      "                    )\n",
      "            try:\n",
      "                buffer = match.group(1).strip()\n",
      "                # commenting following two lines because now we are not using ast and instead\n",
      "                # relying on json's ability to do parsing. Should be much faster and more\n",
      "                # reliable. \n",
      "                #buffer = js_adaptor(buffer)\n",
      "                #response = self.clean_server_response(ast.literal_eval(buffer)['data'][0])\n",
      "                response = self.clean_server_response(json.loads(buffer)['data'][0])\n",
      "            except SyntaxError as err:\n",
      "                raise Exception('ill formatted response')\n",
      "            else:\n",
      "                return self.render_response(response, as_json)\n",
      "        else:\n",
      "            return None\n"
     ]
    }
   ],
   "source": [
    "import inspect as i\n",
    "import sys\n",
    "sys.stdout.write(i.getsource(nse.get_quote))"
   ]
  }
 ],
 "metadata": {
  "kernelspec": {
   "display_name": "Python 3",
   "language": "python",
   "name": "python3"
  },
  "language_info": {
   "codemirror_mode": {
    "name": "ipython",
    "version": 3
   },
   "file_extension": ".py",
   "mimetype": "text/x-python",
   "name": "python",
   "nbconvert_exporter": "python",
   "pygments_lexer": "ipython3",
   "version": "3.7.4"
  }
 },
 "nbformat": 4,
 "nbformat_minor": 4
}
