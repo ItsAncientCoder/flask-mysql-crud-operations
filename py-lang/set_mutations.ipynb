{
 "cells": [
  {
   "cell_type": "code",
   "execution_count": 141,
   "metadata": {},
   "outputs": [
    {
     "name": "stdout",
     "output_type": "stream",
     "text": [
      "20217\n"
     ]
    }
   ],
   "source": [
    "import pprint\n",
    "file_name = 'set_mutations_data.txt'\n",
    "A_size = None\n",
    "A = None\n",
    "others_size = None\n",
    "others_keys = list()\n",
    "others_values = list()\n",
    "with open(file_name, 'r') as file:\n",
    "    A_size = int(file.readline())\n",
    "    A = set(map(int,str(file.readline()).split(' ')))\n",
    "    others_size = int(file.readline()) * 2\n",
    "    for i in range(others_size):\n",
    "        if i%2 == 0:\n",
    "            temp_key = str(file.readline()).split(' ')\n",
    "            others_keys.append(temp_key[0])\n",
    "        else:\n",
    "            others_values.append(set(map(int, str(file.readline()).split(' '))))\n",
    "others = zip(others_keys, others_values)\n",
    "for operation, value in others:\n",
    "    if operation == 'intersection_update':\n",
    "        A.intersection_update(value)\n",
    "    elif operation == 'update':\n",
    "        A.update(value)\n",
    "    elif operation == 'symmetric_difference_update':\n",
    "        A.symmetric_difference_update(value)\n",
    "    elif operation == 'difference_update':\n",
    "        A.difference_update(value)\n",
    "pprint.pprint(sum(A))"
   ]
  },
  {
   "cell_type": "code",
   "execution_count": 163,
   "metadata": {},
   "outputs": [
    {
     "name": "stdout",
     "output_type": "stream",
     "text": [
      "145\n",
      "113\n",
      "32\n",
      "8\n"
     ]
    }
   ],
   "source": [
    "room_numbers = [1, 2, 3, 6, 5, 4, 4, 2, 5, 3, 6, 1, 6, 5, 3, 2, 4, 1, 2, 5, 1, 4, 3, 6, 8, 4, 3, 1, 5, 6, 2]\n",
    "count_map = dict(( i,room_numbers.count(i)) for i in room_numbers)\n",
    "k=5\n",
    "#for i,j in count_map.items():\n",
    "#    if j==1:\n",
    "#        print(i)\n",
    "#        break\n",
    "myset = set(room_numbers)\n",
    "a = (sum(myset)*k)\n",
    "print(a)\n",
    "b = (sum(room_numbers))\n",
    "print(b)\n",
    "c = (a-b)\n",
    "print(c)\n",
    "print(c//(k-1))"
   ]
  }
 ],
 "metadata": {
  "kernelspec": {
   "display_name": "Python 3",
   "language": "python",
   "name": "python3"
  },
  "language_info": {
   "codemirror_mode": {
    "name": "ipython",
    "version": 3
   },
   "file_extension": ".py",
   "mimetype": "text/x-python",
   "name": "python",
   "nbconvert_exporter": "python",
   "pygments_lexer": "ipython3",
   "version": "3.7.2"
  }
 },
 "nbformat": 4,
 "nbformat_minor": 4
}
