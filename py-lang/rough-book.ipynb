{
 "cells": [
  {
   "cell_type": "code",
   "execution_count": 23,
   "metadata": {},
   "outputs": [
    {
     "name": "stdout",
     "output_type": "stream",
     "text": [
      "0 11\n",
      "1 12\n",
      "2 13\n",
      "3 14\n",
      "4 15\n",
      "5 16\n",
      "6 17\n",
      "7 18\n",
      "8 19\n"
     ]
    }
   ],
   "source": [
    "a = range(10)\n",
    "b = range(11,20)\n",
    "c = zip(a,b)\n",
    "d = dict(c)\n",
    "for i,j in d.items():\n",
    "    print(i,j)"
   ]
  }
 ],
 "metadata": {
  "kernelspec": {
   "display_name": "Python 3",
   "language": "python",
   "name": "python3"
  },
  "language_info": {
   "codemirror_mode": {
    "name": "ipython",
    "version": 3
   },
   "file_extension": ".py",
   "mimetype": "text/x-python",
   "name": "python",
   "nbconvert_exporter": "python",
   "pygments_lexer": "ipython3",
   "version": "3.7.2"
  }
 },
 "nbformat": 4,
 "nbformat_minor": 2
}
