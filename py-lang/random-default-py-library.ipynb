{
 "cells": [
  {
   "cell_type": "code",
   "execution_count": 13,
   "metadata": {},
   "outputs": [
    {
     "name": "stdout",
     "output_type": "stream",
     "text": [
      "0.2550690257394217 0.49543508709194095 0.4494910647887381\n",
      "0.13436424411240122 0.8474337369372327 0.763774618976614\n",
      "0.13436424411240122 0.8474337369372327 0.763774618976614\n"
     ]
    }
   ],
   "source": [
    "from random import random\n",
    "from random import seed\n",
    "\n",
    "print(random(),random(),random())\n",
    "seed(1)\n",
    "print(random(),random(),random())\n",
    "\n",
    "seed(1)\n",
    "print(random(),random(),random())"
   ]
  },
  {
   "cell_type": "code",
   "execution_count": 15,
   "metadata": {},
   "outputs": [
    {
     "name": "stdout",
     "output_type": "stream",
     "text": [
      "1\n"
     ]
    }
   ],
   "source": [
    "#Choice method\n",
    "from random import choice\n",
    "\n",
    "list = [1,2,3,4,5,6,7]\n",
    "\n",
    "print(choice(list))"
   ]
  },
  {
   "cell_type": "code",
   "execution_count": 24,
   "metadata": {},
   "outputs": [
    {
     "name": "stdout",
     "output_type": "stream",
     "text": [
      "[0, 1, 2, 3, 4, 5, 6, 7, 8, 9, 10, 11, 12, 13, 14, 15, 16, 17, 18, 19]\n",
      "[4, 18, 2, 8, 3, 7, 12, 14, 13, 10, 6, 15, 1, 16, 0, 9, 19, 17, 5, 11]\n",
      "[0, 1, 2, 3, 4, 5, 6, 7, 8, 9, 10, 11, 12, 13, 14, 15, 16, 17, 18, 19]\n"
     ]
    }
   ],
   "source": [
    "from random import seed\n",
    "from random import sample\n",
    "# seed random number generator\n",
    "seed(1)\n",
    "# prepare a sequence\n",
    "sequence = [i for i in range(20)]\n",
    "print(sequence)\n",
    "# select a subset without replacement\n",
    "subset = sample(sequence, 20)\n",
    "print(subset)\n",
    "subset.sort()\n",
    "print(subset)"
   ]
  },
  {
   "cell_type": "code",
   "execution_count": 34,
   "metadata": {},
   "outputs": [
    {
     "name": "stdout",
     "output_type": "stream",
     "text": [
      "[3, 9, 14, 19, 13, 10, 5, 2, 1, 8, 6, 0, 4, 15, 12, 16, 18, 11, 7, 17]\n"
     ]
    }
   ],
   "source": [
    "from random import shuffle\n",
    "\n",
    "sequence = [i for i in range(20)]\n",
    "shuffle(sequence)\n",
    "print(sequence)"
   ]
  },
  {
   "cell_type": "code",
   "execution_count": 38,
   "metadata": {},
   "outputs": [
    {
     "name": "stdout",
     "output_type": "stream",
     "text": [
      "[4.17022005e-01 7.20324493e-01 1.14374817e-04 3.02332573e-01\n",
      " 1.46755891e-01 9.23385948e-02 1.86260211e-01 3.45560727e-01\n",
      " 3.96767474e-01 5.38816734e-01]\n"
     ]
    }
   ],
   "source": [
    "#numpy's random function\n",
    "\n",
    "import numpy as np\n",
    "\n",
    "np.random.seed(1)\n",
    "randomList = np.random.random(10)\n",
    "print(randomList)\n"
   ]
  }
 ],
 "metadata": {
  "kernelspec": {
   "display_name": "Python 3",
   "language": "python",
   "name": "python3"
  },
  "language_info": {
   "codemirror_mode": {
    "name": "ipython",
    "version": 3
   },
   "file_extension": ".py",
   "mimetype": "text/x-python",
   "name": "python",
   "nbconvert_exporter": "python",
   "pygments_lexer": "ipython3",
   "version": "3.7.2"
  }
 },
 "nbformat": 4,
 "nbformat_minor": 2
}
