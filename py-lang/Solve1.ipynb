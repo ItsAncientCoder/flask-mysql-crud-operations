{
 "cells": [
  {
   "cell_type": "code",
   "execution_count": 119,
   "metadata": {},
   "outputs": [
    {
     "name": "stdout",
     "output_type": "stream",
     "text": [
      "The second lowest grade is 37.21\n",
      "The students whose grade is the second lowest grade ['Berry', 'Harry']\n"
     ]
    }
   ],
   "source": [
    "students = [['Harry', 37.21], ['Berry', 37.21], ['Tina', 37.2], ['Akriti', 41], ['Harsh', 39]];\n",
    "marks = []\n",
    "for i in students:\n",
    "    marks.append(i[1])\n",
    "for j in range(len(marks)):\n",
    "    for k in range(j):\n",
    "        if(marks[j] < marks[k]):\n",
    "            marks[j],marks[k] = marks[k],marks[j]\n",
    "a_marks = marks[1]\n",
    "a_names = []\n",
    "for i in students:\n",
    "    if(i[1]==a_marks):\n",
    "        a_names.append(i[0])\n",
    "a_names.sort()\n",
    "print('The second lowest grade is', a_marks)\n",
    "print('The students whose grade is the second lowest grade', a_names)"
   ]
  }
 ],
 "metadata": {
  "kernelspec": {
   "display_name": "Python 3",
   "language": "python",
   "name": "python3"
  },
  "language_info": {
   "codemirror_mode": {
    "name": "ipython",
    "version": 3
   },
   "file_extension": ".py",
   "mimetype": "text/x-python",
   "name": "python",
   "nbconvert_exporter": "python",
   "pygments_lexer": "ipython3",
   "version": "3.7.2"
  }
 },
 "nbformat": 4,
 "nbformat_minor": 2
}
