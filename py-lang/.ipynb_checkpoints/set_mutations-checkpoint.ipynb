{
 "cells": [
  {
   "cell_type": "code",
   "execution_count": 122,
   "metadata": {},
   "outputs": [
    {
     "name": "stdout",
     "output_type": "stream",
     "text": [
      "74529\n",
      "4\n"
     ]
    }
   ],
   "source": [
    "import pprint\n",
    "file_name = 'set_mutations_data.txt'\n",
    "A_size = None\n",
    "A = None\n",
    "others_size = None\n",
    "others_keys = list()\n",
    "others_values = list()\n",
    "with open(file_name, 'r') as file:\n",
    "    A_size = int(file.readline())\n",
    "    A = set(map(int,str(file.readline()).split(' ')))\n",
    "    others_size = int(file.readline())\n",
    "    if others_size is not None:\n",
    "        for i in range(others_size*2):\n",
    "            if i%2 == 0:\n",
    "                others_keys.append(str(file.readline()).split(' ')[0])\n",
    "            else:\n",
    "                others_values.append(set(map(int, str(file.readline()).split(' '))))\n",
    "others = dict(zip(others_keys, others_values))\n",
    "for operation, value in others.items():\n",
    "    if operation == 'intersection_update':\n",
    "        A.intersection_update(value)\n",
    "    elif operation == 'update':\n",
    "        A.update(value)\n",
    "    elif operation == 'symmetric_difference_update':\n",
    "        A.symmetric_difference_update(value)\n",
    "    elif operation == 'difference_update':\n",
    "        A.difference_update(value)\n",
    "pprint.pprint(sum(A))\n",
    "print(len(others.keys()))"
   ]
  },
  {
   "cell_type": "code",
   "execution_count": 106,
   "metadata": {},
   "outputs": [
    {
     "name": "stdout",
     "output_type": "stream",
     "text": [
      "239\n"
     ]
    }
   ],
   "source": [
    "with open(file_name, 'r') as file:\n",
    "    print(len(file.readlines()[0].split(' ')))"
   ]
  }
 ],
 "metadata": {
  "kernelspec": {
   "display_name": "Python 3",
   "language": "python",
   "name": "python3"
  },
  "language_info": {
   "codemirror_mode": {
    "name": "ipython",
    "version": 3
   },
   "file_extension": ".py",
   "mimetype": "text/x-python",
   "name": "python",
   "nbconvert_exporter": "python",
   "pygments_lexer": "ipython3",
   "version": "3.7.2"
  }
 },
 "nbformat": 4,
 "nbformat_minor": 4
}
