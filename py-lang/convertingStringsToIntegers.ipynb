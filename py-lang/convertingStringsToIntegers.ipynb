{
 "cells": [
  {
   "cell_type": "code",
   "execution_count": 4,
   "metadata": {},
   "outputs": [
    {
     "name": "stdout",
     "output_type": "stream",
     "text": [
      "['2.5', '25', '50', '75', '97.5']\n"
     ]
    }
   ],
   "source": [
    "a_strings = ['2.5th', '25th', '50th', '75th', '97.5']\n",
    "\n",
    "for i,a in enumerate(a_strings):\n",
    "    if 'th' in a:\n",
    "        a = a.strip('th');\n",
    "    a_strings[i] = a\n",
    "print(a_strings)"
   ]
  },
  {
   "cell_type": "code",
   "execution_count": 10,
   "metadata": {},
   "outputs": [
    {
     "data": {
      "text/plain": [
       "[2.5, 25.0, 50.0, 75.0, 97.5]"
      ]
     },
     "metadata": {},
     "output_type": "display_data"
    }
   ],
   "source": [
    "a_floats = list(map(float,a_strings))\n",
    "display(a_floats)"
   ]
  }
 ],
 "metadata": {
  "kernelspec": {
   "display_name": "Python 3",
   "language": "python",
   "name": "python3"
  },
  "language_info": {
   "codemirror_mode": {
    "name": "ipython",
    "version": 3
   },
   "file_extension": ".py",
   "mimetype": "text/x-python",
   "name": "python",
   "nbconvert_exporter": "python",
   "pygments_lexer": "ipython3",
   "version": "3.7.4"
  }
 },
 "nbformat": 4,
 "nbformat_minor": 4
}
