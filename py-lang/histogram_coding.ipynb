{
 "cells": [
  {
   "cell_type": "code",
   "execution_count": 22,
   "metadata": {},
   "outputs": [
    {
     "name": "stdin",
     "output_type": "stream",
     "text": [
      "Enter number sep by space 3 8 7 9\n"
     ]
    },
    {
     "name": "stdout",
     "output_type": "stream",
     "text": [
      "***\n",
      "********\n",
      "*******\n",
      "*********\n"
     ]
    }
   ],
   "source": [
    "input_string = input('Enter number sep by space')\n",
    "nums = input_string.split()\n",
    "nums = list(map(int, nums))\n",
    "for i in nums:\n",
    "    op = ''\n",
    "    while i>0:\n",
    "        op += '*'\n",
    "        i = i-1\n",
    "    print(op)"
   ]
  },
  {
   "cell_type": "code",
   "execution_count": 23,
   "metadata": {},
   "outputs": [
    {
     "name": "stdout",
     "output_type": "stream",
     "text": [
      "bandham\n",
      "Test\n"
     ]
    }
   ],
   "source": [
    "import os\n",
    "name = 'bandham' + os.linesep + 'Test'\n",
    "print(name)"
   ]
  }
 ],
 "metadata": {
  "kernelspec": {
   "display_name": "Python 3",
   "language": "python",
   "name": "python3"
  },
  "language_info": {
   "codemirror_mode": {
    "name": "ipython",
    "version": 3
   },
   "file_extension": ".py",
   "mimetype": "text/x-python",
   "name": "python",
   "nbconvert_exporter": "python",
   "pygments_lexer": "ipython3",
   "version": "3.7.4"
  }
 },
 "nbformat": 4,
 "nbformat_minor": 4
}
