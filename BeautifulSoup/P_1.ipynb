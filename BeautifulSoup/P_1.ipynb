{
 "cells": [
  {
   "cell_type": "code",
   "execution_count": 23,
   "metadata": {},
   "outputs": [
    {
     "name": "stdout",
     "output_type": "stream",
     "text": [
      "/shapelets/status/1157186345313460224\n",
      "/mysweetlord/status/1156989484354998272\n",
      "/erum2020_conf/status/1156849091709734914\n",
      "/m_lukaszewski/status/1156999949122514946\n",
      "/Fisher85M/status/1156461999301308416\n",
      "/Android/status/1157320209897857027\n",
      "/judywawira/status/1157268877946085377\n",
      "/markcmarino/status/1157049216813785088\n",
      "/DalithSteiger/status/1156834553882800128\n",
      "/larrykim/status/1156862537528307712\n",
      "/ethel_zim/status/1156942069186908167\n",
      "/david_rolnick/status/1156573532022857728\n",
      "/numus_app/status/1157053093038764035\n",
      "/steve_engl/status/1156825969749110785\n",
      "/ravikikan/status/1156597381447725056\n",
      "/DigitalMedDoc/status/1157150539601235969\n",
      "/mhilton/status/1156974933559451649\n",
      "/DesolateCranium/status/1157153776186220552\n",
      "/WDanMarks/status/1156570164411949063\n",
      "/ValaAfshar/status/1157305855336992768\n",
      "/mitsmr/status/1156414938598006784\n",
      "/pascal_bornet/status/1156843759763673090\n",
      "/Ronald_vanLoon/status/1156491438709854210\n",
      "/DeepMindAI/status/1156884927838920705\n",
      "24\n"
     ]
    }
   ],
   "source": [
    "import requests\n",
    "from bs4 import BeautifulSoup\n",
    "\n",
    "\n"
   ]
  }
 ],
 "metadata": {
  "kernelspec": {
   "display_name": "Python 3",
   "language": "python",
   "name": "python3"
  },
  "language_info": {
   "codemirror_mode": {
    "name": "ipython",
    "version": 3
   },
   "file_extension": ".py",
   "mimetype": "text/x-python",
   "name": "python",
   "nbconvert_exporter": "python",
   "pygments_lexer": "ipython3",
   "version": "3.7.2"
  }
 },
 "nbformat": 4,
 "nbformat_minor": 2
}
