{
 "cells": [
  {
   "cell_type": "code",
   "execution_count": 16,
   "metadata": {},
   "outputs": [
    {
     "name": "stdout",
     "output_type": "stream",
     "text": [
      "Email has been sent!!\n",
      "1\n",
      "Email has been sent!!\n",
      "2\n"
     ]
    }
   ],
   "source": [
    "#https://www.youtube.com/watch?v=Bg9r_yLk7VY&t=320s\n",
    "#Other refernce for emailing - https://realpython.com/python-send-email/\n",
    "#https://myaccount.google.com/lesssecureapps\n",
    "import requests\n",
    "from bs4 import BeautifulSoup\n",
    "import smtplib, ssl\n",
    "import time\n",
    "from email.mime.multipart import MIMEMultipart\n",
    "from email.mime.text import MIMEText\n",
    "import pandas as pd\n",
    "\n",
    "def check_price():\n",
    "    global url\n",
    "    url = 'https://www.amazon.in/BitDefender-Security-Version-Ransomware-Protection/dp/B073VJVSCC?tag=googinhydr18418-21&tag=googinkenshoo-21&ascsubtag=_k_CjwKCAjwmNzoBRBOEiwAr2V27QXORi8MEjyuaKItIHWID3AoJWrlbwsAUnlpHWzZ5RPq5MIHmWENmBoCjGoQAvD_BwE_k_&gclid=CjwKCAjwmNzoBRBOEiwAr2V27QXORi8MEjyuaKItIHWID3AoJWrlbwsAUnlpHWzZ5RPq5MIHmWENmBoCjGoQAvD_BwE'\n",
    "    headers = {'User-Agent': 'Mozilla/5.0 (Windows NT 10.0; Win64; x64) AppleWebKit/537.36 (KHTML, like Gecko) Chrome/75.0.3770.100 Safari/537.36'}\n",
    "    page = requests.get(url, headers = headers)\n",
    "    soup = BeautifulSoup(page.content, 'html.parser')\n",
    "    price = soup.find(id='priceblock_ourprice').get_text()\n",
    "    return float(price)\n",
    "\n",
    "def send_mail():\n",
    "    df = pd.read_csv(\"C:\\\\Users\\\\ac29019\\\\python-ws\\\\credentials.txt\", delimiter = ',')\n",
    "    username = df.loc[:,'username'].values[1]\n",
    "    password = df.loc[:,'password'].values[1]\n",
    "    context = ssl.create_default_context()\n",
    "    html = \"\"\"\\\n",
    "    <html>\n",
    "        <body>\n",
    "            <p>Hi Bandham,<br>\n",
    "                Bit Defender Antivirus price fell down.<br>\n",
    "                <a href=\"\"\" + url + \"\"\">Check here</a> \n",
    "            </p>\n",
    "        </body>\n",
    "    </html>\n",
    "    \"\"\"\n",
    "    message = MIMEMultipart(\"alternative\")\n",
    "    message[\"Subject\"] = \"Price Fell down-Bit Defender\"\n",
    "    message[\"From\"] = 'bmkantab@gmail.com'\n",
    "    message[\"To\"] = 'bmkantab@gmail.com'\n",
    "    part = MIMEText(html, \"html\")\n",
    "    message.attach(part)\n",
    "    with smtplib.SMTP_SSL(\"smtp.gmail.com\", 465, context=context) as server:\n",
    "        server.ehlo()\n",
    "        #server.starttls()\n",
    "        server.ehlo()\n",
    "        server.login(username, password)\n",
    "        #subject = 'Price fell down!'\n",
    "        #body = 'Check the amazon link: ' + url\n",
    "        #msg = f'Subject: {subject}\\n\\n{body}'\n",
    "        server.sendmail('bmkantab@gmail.com','bmkantab@gmail.com', message.as_string())\n",
    "        print('Email has been sent!!')\n",
    "        server.quit()\n",
    "\n",
    "i = 0\n",
    "while i < 2:\n",
    "    price = check_price()\n",
    "    if price < 400:\n",
    "        send_mail()\n",
    "    time.sleep(1)\n",
    "    i += 1\n",
    "    print(i)"
   ]
  }
 ],
 "metadata": {
  "kernelspec": {
   "display_name": "Python 3",
   "language": "python",
   "name": "python3"
  },
  "language_info": {
   "codemirror_mode": {
    "name": "ipython",
    "version": 3
   },
   "file_extension": ".py",
   "mimetype": "text/x-python",
   "name": "python",
   "nbconvert_exporter": "python",
   "pygments_lexer": "ipython3",
   "version": "3.7.2"
  }
 },
 "nbformat": 4,
 "nbformat_minor": 2
}
