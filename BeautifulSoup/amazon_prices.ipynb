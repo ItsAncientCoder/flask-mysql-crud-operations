{
 "cells": [
  {
   "cell_type": "code",
   "execution_count": 31,
   "metadata": {},
   "outputs": [
    {
     "data": {
      "text/plain": [
       "'No.of Links '"
      ]
     },
     "metadata": {},
     "output_type": "display_data"
    },
    {
     "data": {
      "text/plain": [
       "26"
      ]
     },
     "metadata": {},
     "output_type": "display_data"
    },
    {
     "name": "stdout",
     "output_type": "stream",
     "text": [
      "Some Error\n",
      "Some Error\n",
      "Some Error\n",
      "Some Error\n",
      "Some Error\n",
      "Some Error\n",
      "Some Error\n",
      "Some Error\n",
      "{'Logitech Wireless mk270r Keyboard and Mouse Set': '1,199.00', 'iBall Magical Duo 2 Wireless Deskset - Keyboard and Mouse': '799.00', 'Logitech K230 Wireless Keyboard': '649.00', 'Logitech MK215 Wireless Combo Radio Transfer, PC/Mac, Keyboard': '999.00', 'HP K2500 Wireless Keyboard': '799.00', 'Amkette Xcite Pro USB Keyboard (Black)': '269.00', 'Reconntech Ultrathin 10 Metre Range Bluetooth Keyboard': '729.00', 'Lenovo 100 Wireless Keyboard & Mouse Combo, GX30L66303': '1,099.00', 'Zebronics Zeb KM2100 Multimedia USB Keyboard': '209.00', 'EASY Mini Portable Wireless Keyboard with Built-in Mouse Combo': '510.00', 'Rii Mini Keyboard Wireless Touchpad Keyboard With Mouse Combo': '1,169.00', 'ProDot TLC-107+145 2.4Ghz Multimedia Wireless Keyboard and Mouse Combo Compact and Portable for PC, Laptop, Desktop, Android TV and Smart TV (Peel Orange)': '904.00'}\n"
     ]
    }
   ],
   "source": [
    "import bs4, requests as req\n",
    "from selenium import webdriver\n",
    "\n",
    "driver = webdriver.Firefox()\n",
    "url = 'https://www.amazon.in/s?k=wireless+keyboard';\n",
    "driver.get(url)\n",
    "soup = bs4.BeautifulSoup(driver.page_source, 'html.parser')\n",
    "itemLinks = soup.find_all('a',{'class':'a-link-normal a-text-normal'})\n",
    "links = [ ('https://www.amazon.in'+item.get('href')) for item in itemLinks ]\n",
    "namesAndPricesMap = dict()\n",
    "display('No.of Links ',len(links))\n",
    "\n",
    "def getItemNameAndPrice(link):\n",
    "    driver.get(link)\n",
    "    item_soup = bs4.BeautifulSoup(driver.page_source,'html.parser');\n",
    "    name = item_soup.find('span',{'id':'productTitle'})\n",
    "    price = item_soup.find('span',{'id':'priceblock_dealprice'})\n",
    "    namesAndPricesMap[str(name.get_text()).strip()] = str(price.get_text()).strip().replace('₹\\xa0','')\n",
    "for link in links:\n",
    "    try:\n",
    "        getItemNameAndPrice(link)\n",
    "    except:\n",
    "        print('Some Error')\n",
    "print(namesAndPricesMap)"
   ]
  }
 ],
 "metadata": {
  "kernelspec": {
   "display_name": "Python 3",
   "language": "python",
   "name": "python3"
  },
  "language_info": {
   "codemirror_mode": {
    "name": "ipython",
    "version": 3
   },
   "file_extension": ".py",
   "mimetype": "text/x-python",
   "name": "python",
   "nbconvert_exporter": "python",
   "pygments_lexer": "ipython3",
   "version": "3.7.6"
  }
 },
 "nbformat": 4,
 "nbformat_minor": 4
}
