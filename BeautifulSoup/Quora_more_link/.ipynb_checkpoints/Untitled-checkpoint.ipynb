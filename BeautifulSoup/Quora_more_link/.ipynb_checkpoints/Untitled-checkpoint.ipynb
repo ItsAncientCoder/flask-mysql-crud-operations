{
 "cells": [
  {
   "cell_type": "code",
   "execution_count": 9,
   "metadata": {},
   "outputs": [],
   "source": [
    "from selenium import webdriver\n",
    "\n",
    "firefox_driver_path = \"C:\\\\Users\\\\ac29019\\\\Downloads\\\\geckodriver-v0.24.0-win64\\\\geckodriver.exe\"\n",
    "chrome_driver_path = \"C:\\\\Users\\\\ac29019\\\\Downloads\\\\chromedriver_win32\\\\chromedriver.exe\"\n",
    "\n",
    "#driver = webdriver.Firefox(executable_path=firefox_driver_path)\n",
    "driver = webdriver.Chrome(executable_path=chrome_driver_path)\n",
    "driver.maximize_window()\n",
    "driver.get(\"https://www.quora.com/What-are-some-of-the-best-life-changing-books\")"
   ]
  },
  {
   "cell_type": "code",
   "execution_count": 10,
   "metadata": {},
   "outputs": [],
   "source": [
    "#sign_in_btn = driver.find_element_by_xpath('//*[@id=\"root\"]/div/div/div[2]/div/div/button')\n",
    "#sign_in_btn.click()"
   ]
  },
  {
   "cell_type": "code",
   "execution_count": 13,
   "metadata": {},
   "outputs": [],
   "source": [
    "#driver.find_element_by_id('__w2_wZzf8F1D3_google_connect_button').click()"
   ]
  },
  {
   "cell_type": "code",
   "execution_count": 74,
   "metadata": {},
   "outputs": [],
   "source": [
    "driver.get(\"https://www.fb.com\")\n",
    "driver.get(\"https://www.quora.com/What-are-some-of-the-best-life-changing-books\")\n",
    "driver.execute_script(\"window.scrollTo(0, document.body.scrollHeight);\")\n",
    "import time as thread\n",
    "\n",
    "thread.sleep(10)\n",
    "driver.execute_script(\"window.scrollTo(0, document.body.scrollHeight);\")"
   ]
  },
  {
   "cell_type": "code",
   "execution_count": 75,
   "metadata": {},
   "outputs": [
    {
     "data": {
      "text/plain": [
       "\"let all_spans = document.getElementsByTagName('span');\\nlet spans_array = Array.from(all_spans);\\nlet more_links = spans_array.filter(span => (span && span.innerText === '(more)'));\\nconsole.log(more_links.length);\\nmore_links.forEach(link=> link.click());\\n\""
      ]
     },
     "execution_count": 75,
     "metadata": {},
     "output_type": "execute_result"
    }
   ],
   "source": [
    "javascript_to_click_more_links = \"\"\"let all_spans = document.getElementsByTagName('span');\n",
    "let spans_array = Array.from(all_spans);\n",
    "let more_links = spans_array.filter(span => (span && span.innerText === '(more)'));\n",
    "console.log(more_links.length);\n",
    "more_links.forEach(link=> link.click());\n",
    "\"\"\"\n",
    "javascript_to_click_more_links"
   ]
  },
  {
   "cell_type": "code",
   "execution_count": 76,
   "metadata": {},
   "outputs": [],
   "source": [
    "driver.execute_script(javascript_to_click_more_links);"
   ]
  },
  {
   "cell_type": "code",
   "execution_count": null,
   "metadata": {},
   "outputs": [],
   "source": []
  }
 ],
 "metadata": {
  "kernelspec": {
   "display_name": "Python 3",
   "language": "python",
   "name": "python3"
  },
  "language_info": {
   "codemirror_mode": {
    "name": "ipython",
    "version": 3
   },
   "file_extension": ".py",
   "mimetype": "text/x-python",
   "name": "python",
   "nbconvert_exporter": "python",
   "pygments_lexer": "ipython3",
   "version": "3.7.6"
  }
 },
 "nbformat": 4,
 "nbformat_minor": 4
}
