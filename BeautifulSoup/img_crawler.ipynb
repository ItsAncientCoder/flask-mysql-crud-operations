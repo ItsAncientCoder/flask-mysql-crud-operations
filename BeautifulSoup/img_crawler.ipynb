{
 "cells": [
  {
   "cell_type": "code",
   "execution_count": 5,
   "metadata": {},
   "outputs": [
    {
     "name": "stdout",
     "output_type": "stream",
     "text": [
      "'End of program..'\n"
     ]
    }
   ],
   "source": [
    "from bs4 import BeautifulSoup\n",
    "import requests\n",
    "from pprint import pprint as pp\n",
    "\n",
    "url = 'https://pixabay.com/images/search/data%20science/';\n",
    "resp = requests.get(url)\n",
    "soup = BeautifulSoup(resp.text, 'html.parser');\n",
    "img_links = list()\n",
    "\n",
    "#imgs = soup.find_all('img')\n",
    "#for i in imgs:\n",
    "#    pp(i['src'])\n",
    "imgs = soup.select('img[src^=\"https://cdn.pixabay.com/photo\"]')\n",
    "links = [ i['src'] for i in imgs]\n",
    "dest_dir = 'C:\\\\Users\\\\ac29019\\\\Desktop\\\\crawl\\\\';\n",
    "for index, link in enumerate(links):\n",
    "    img_data = requests.get(link).content\n",
    "    with open(dest_dir + str(index + 1) + '.jpg', 'wb+') as file:\n",
    "        file.write(img_data);\n",
    "pp('End of program..')"
   ]
  },
  {
   "cell_type": "code",
   "execution_count": null,
   "metadata": {},
   "outputs": [],
   "source": [
    "import requests\n",
    "import bs4 as bs\n",
    "import urllib.request as ulib\n",
    "\n",
    "url = str(input('URL: '));\n",
    "opener = ulib.build_opener()\n",
    "opener.addheaders = [{'User-Agent':'Mozilla'}]\n",
    "ulib.install_opener(opener);\n",
    "resp = requests.get(url).text\n",
    "soup = bs.BeautifulSoup(resp, 'html.parser')\n",
    "imgs = soup.find_all('img');\n",
    "links = list()\n",
    "for img in imgs:\n",
    "    link = img.get('src')\n",
    "    if link is not None:\n",
    "        if 'http' not in link:\n",
    "            link = url+ link;\n",
    "        links.append(link)\n",
    "pp('Images detected: ' + str(len(links)))\n",
    "\n",
    "dest_dir = 'C:\\\\Users\\\\ac29019\\\\Desktop\\\\crawl\\\\';\n",
    "for index, link in enumerate(links):\n",
    "    file_name = dest_dir+'img_{}.png'.format(index+1)\n",
    "    img_data = requests.get(link).content\n",
    "    with open(file_name, 'wb+') as file:\n",
    "        file.write(img_data)\n",
    "pp('END OF PROGRAM.!')"
   ]
  }
 ],
 "metadata": {
  "kernelspec": {
   "display_name": "Python 3",
   "language": "python",
   "name": "python3"
  },
  "language_info": {
   "codemirror_mode": {
    "name": "ipython",
    "version": 3
   },
   "file_extension": ".py",
   "mimetype": "text/x-python",
   "name": "python",
   "nbconvert_exporter": "python",
   "pygments_lexer": "ipython3",
   "version": "3.7.2"
  }
 },
 "nbformat": 4,
 "nbformat_minor": 4
}
