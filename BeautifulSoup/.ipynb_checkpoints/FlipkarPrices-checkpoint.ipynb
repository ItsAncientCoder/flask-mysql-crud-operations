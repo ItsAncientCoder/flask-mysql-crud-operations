{
 "cells": [
  {
   "cell_type": "code",
   "execution_count": 82,
   "metadata": {},
   "outputs": [],
   "source": [
    "from bs4 import BeautifulSoup\n",
    "import requests\n",
    "\n",
    "url = 'https://www.flipkart.com/search?q=WD%20hard%20discs%202tb&otracker=search&otracker1=search&marketplace=FLIPKART&as-show=on&as=off';\n",
    "r = requests.get(url)\n",
    "soup = BeautifulSoup(r.content, 'html.parser')\n",
    "links = set()\n",
    "for i in soup.find_all(name='a', attrs={'target':'_blank','rel':'noopener noreferrer','class':'_31qSD5'}):\n",
    "    link = i.get('href')\n",
    "    links.add(link)\n",
    "prices = dict()\n",
    "for i in links:\n",
    "    link = 'https://www.flipkart.com' + i;\n",
    "    resp = requests.get(link)\n",
    "    bsoup = BeautifulSoup(resp.content, 'html.parser')\n",
    "    name = bsoup.find(name='span', attrs={'class':'_35KyD6'}).get_text()\n",
    "    price = bsoup.find(name='div', attrs={'class':'_1vC4OE _3qQ9m1'}).get_text()\n",
    "    prices[name.strip()] = price.strip()\n",
    "\n",
    "if (len(links) == len(prices.keys())):\n",
    "    with open('wd_prices.txt', 'w+', encoding='utf-8') as file:\n",
    "        for i, (k, v) in enumerate(prices.items()):\n",
    "            line = ' '.join(k.split()) + ' : ' + v + '\\n'\n",
    "            file.write(line)\n",
    "else:\n",
    "    print('Error, Count of links and prices are not matching..')"
   ]
  }
 ],
 "metadata": {
  "kernelspec": {
   "display_name": "Python 3",
   "language": "python",
   "name": "python3"
  },
  "language_info": {
   "codemirror_mode": {
    "name": "ipython",
    "version": 3
   },
   "file_extension": ".py",
   "mimetype": "text/x-python",
   "name": "python",
   "nbconvert_exporter": "python",
   "pygments_lexer": "ipython3",
   "version": "3.7.2"
  }
 },
 "nbformat": 4,
 "nbformat_minor": 4
}
