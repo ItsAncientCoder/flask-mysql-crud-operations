{
 "cells": [
  {
   "cell_type": "code",
   "execution_count": 7,
   "metadata": {},
   "outputs": [
    {
     "name": "stdin",
     "output_type": "stream",
     "text": [
      "What do you want to Search..?  Bandham Manikanta\n"
     ]
    },
    {
     "data": {
      "text/plain": [
       "['/url?q=https://in.linkedin.com/in/bandham&sa=U&ved=2ahUKEwjms_aJ0PXkAhVJ6nMBHfofAPgQFjAAegQIABAB&usg=AOvVaw1vhVrp0_IHGcVjv_aw9oES',\n",
       " '/url?q=https://stackoverflow.com/users/7564593/bandham-manikanta&sa=U&ved=2ahUKEwjms_aJ0PXkAhVJ6nMBHfofAPgQFjABegQIBxAB&usg=AOvVaw2tRKcNfa87JJe0US2N0Q1n',\n",
       " '/url?q=https://stackexchange.com/users/10250039/bandham-manikanta&sa=U&ved=2ahUKEwjms_aJ0PXkAhVJ6nMBHfofAPgQFjACegQICBAB&usg=AOvVaw2bDv6l4xW0-hW4sgTCzUDF',\n",
       " '/url?q=https://hi-in.facebook.com/bandham.manikanta&sa=U&ved=2ahUKEwjms_aJ0PXkAhVJ6nMBHfofAPgQFjADegQICRAB&usg=AOvVaw3nxPNJSHg5R-wvvDwY2zb7',\n",
       " '/url?q=https://www.facebook.com/bandham.manikanta&sa=U&ved=2ahUKEwjms_aJ0PXkAhVJ6nMBHfofAPgQFjAEegQIAhAB&usg=AOvVaw1SMh2w36uT5R95dCtCFXky',\n",
       " '/url?q=https://github.com/bandhammanikanta&sa=U&ved=2ahUKEwjms_aJ0PXkAhVJ6nMBHfofAPgQFjAFegQIBBAB&usg=AOvVaw1SDf5MwGkittF6uSMr5AH7',\n",
       " '/url?q=https://askubuntu.com/users/996202/bandham-manikanta%3Ftab%3Dquestions%26sort%3Dviews&sa=U&ved=2ahUKEwjms_aJ0PXkAhVJ6nMBHfofAPgQFjAGegQIBRAB&usg=AOvVaw0-NxIkV1dcDfgosAI-wOEH',\n",
       " '/url?q=https://medium.com/%40bmkantab/responses&sa=U&ved=2ahUKEwjms_aJ0PXkAhVJ6nMBHfofAPgQFjAHegQIAxAB&usg=AOvVaw2fr1155Haz_co3aX8rQcGU',\n",
       " '/url?q=https://www.urbanpro.com/hyderabad/manikanta-bandham/13752482&sa=U&ved=2ahUKEwjms_aJ0PXkAhVJ6nMBHfofAPgQFjAIegQIARAB&usg=AOvVaw14jImJdh7fxaU5UPlTUqBi',\n",
       " '/url?q=https://m.people.bayt.com/bandham-manikanta-bandham-manikanta-29256918/&sa=U&ved=2ahUKEwjms_aJ0PXkAhVJ6nMBHfofAPgQFjAJegQIBhAB&usg=AOvVaw2OfySmxXtoZtYVlQcNG_AM',\n",
       " '/url?q=https://accounts.google.com/ServiceLogin%3Fcontinue%3Dhttps://www.google.com/search%253Fq%253DBandham%252BManikanta%26hl%3Den&sa=U&ved=0ahUKEwjms_aJ0PXkAhVJ6nMBHfofAPgQxs8CCCw&usg=AOvVaw3TDSZgyu0xvjPFbJgiF-YV']"
      ]
     },
     "metadata": {},
     "output_type": "display_data"
    },
    {
     "data": {
      "text/plain": [
       "'https://google.com/url?q=https://in.linkedin.com/in/bandham&sa=U&ved=2ahUKEwjms_aJ0PXkAhVJ6nMBHfofAPgQFjAAegQIABAB&usg=AOvVaw1vhVrp0_IHGcVjv_aw9oES'"
      ]
     },
     "metadata": {},
     "output_type": "display_data"
    },
    {
     "data": {
      "text/plain": [
       "'https://google.com/url?q=https://stackoverflow.com/users/7564593/bandham-manikanta&sa=U&ved=2ahUKEwjms_aJ0PXkAhVJ6nMBHfofAPgQFjABegQIBxAB&usg=AOvVaw2tRKcNfa87JJe0US2N0Q1n'"
      ]
     },
     "metadata": {},
     "output_type": "display_data"
    },
    {
     "data": {
      "text/plain": [
       "'https://google.com/url?q=https://stackexchange.com/users/10250039/bandham-manikanta&sa=U&ved=2ahUKEwjms_aJ0PXkAhVJ6nMBHfofAPgQFjACegQICBAB&usg=AOvVaw2bDv6l4xW0-hW4sgTCzUDF'"
      ]
     },
     "metadata": {},
     "output_type": "display_data"
    },
    {
     "data": {
      "text/plain": [
       "'https://google.com/url?q=https://hi-in.facebook.com/bandham.manikanta&sa=U&ved=2ahUKEwjms_aJ0PXkAhVJ6nMBHfofAPgQFjADegQICRAB&usg=AOvVaw3nxPNJSHg5R-wvvDwY2zb7'"
      ]
     },
     "metadata": {},
     "output_type": "display_data"
    },
    {
     "data": {
      "text/plain": [
       "'https://google.com/url?q=https://www.facebook.com/bandham.manikanta&sa=U&ved=2ahUKEwjms_aJ0PXkAhVJ6nMBHfofAPgQFjAEegQIAhAB&usg=AOvVaw1SMh2w36uT5R95dCtCFXky'"
      ]
     },
     "metadata": {},
     "output_type": "display_data"
    },
    {
     "data": {
      "text/plain": [
       "'https://google.com/url?q=https://github.com/bandhammanikanta&sa=U&ved=2ahUKEwjms_aJ0PXkAhVJ6nMBHfofAPgQFjAFegQIBBAB&usg=AOvVaw1SDf5MwGkittF6uSMr5AH7'"
      ]
     },
     "metadata": {},
     "output_type": "display_data"
    },
    {
     "data": {
      "text/plain": [
       "'https://google.com/url?q=https://askubuntu.com/users/996202/bandham-manikanta%3Ftab%3Dquestions%26sort%3Dviews&sa=U&ved=2ahUKEwjms_aJ0PXkAhVJ6nMBHfofAPgQFjAGegQIBRAB&usg=AOvVaw0-NxIkV1dcDfgosAI-wOEH'"
      ]
     },
     "metadata": {},
     "output_type": "display_data"
    },
    {
     "data": {
      "text/plain": [
       "'https://google.com/url?q=https://medium.com/%40bmkantab/responses&sa=U&ved=2ahUKEwjms_aJ0PXkAhVJ6nMBHfofAPgQFjAHegQIAxAB&usg=AOvVaw2fr1155Haz_co3aX8rQcGU'"
      ]
     },
     "metadata": {},
     "output_type": "display_data"
    },
    {
     "data": {
      "text/plain": [
       "'https://google.com/url?q=https://www.urbanpro.com/hyderabad/manikanta-bandham/13752482&sa=U&ved=2ahUKEwjms_aJ0PXkAhVJ6nMBHfofAPgQFjAIegQIARAB&usg=AOvVaw14jImJdh7fxaU5UPlTUqBi'"
      ]
     },
     "metadata": {},
     "output_type": "display_data"
    },
    {
     "data": {
      "text/plain": [
       "'https://google.com/url?q=https://m.people.bayt.com/bandham-manikanta-bandham-manikanta-29256918/&sa=U&ved=2ahUKEwjms_aJ0PXkAhVJ6nMBHfofAPgQFjAJegQIBhAB&usg=AOvVaw2OfySmxXtoZtYVlQcNG_AM'"
      ]
     },
     "metadata": {},
     "output_type": "display_data"
    },
    {
     "data": {
      "text/plain": [
       "'https://google.com/url?q=https://accounts.google.com/ServiceLogin%3Fcontinue%3Dhttps://www.google.com/search%253Fq%253DBandham%252BManikanta%26hl%3Den&sa=U&ved=0ahUKEwjms_aJ0PXkAhVJ6nMBHfofAPgQxs8CCCw&usg=AOvVaw3TDSZgyu0xvjPFbJgiF-YV'"
      ]
     },
     "metadata": {},
     "output_type": "display_data"
    }
   ],
   "source": [
    "import requests, bs4, webbrowser\n",
    "\n",
    "resp = requests.get('https://google.com/search?q=' + ''.join(str(input('What do you want to Search..? '))))\n",
    "resp.raise_for_status()\n",
    "soup = bs4.BeautifulSoup(resp.text, 'html.parser')\n",
    "linkElements = soup.select('a')\n",
    "links = [ ele.get('href') for ele in linkElements if ele.get('href').startswith('/url')]\n",
    "display(len(links))\n",
    "#linksToOpen = min(10,len(linkElements))\n",
    "for link in links:\n",
    "    if not link.startswith('http'):\n",
    "        link = 'https://google.com' + link\n",
    "    display(link)\n",
    "    webbrowser.open(link)"
   ]
  }
 ],
 "metadata": {
  "kernelspec": {
   "display_name": "Python 3",
   "language": "python",
   "name": "python3"
  },
  "language_info": {
   "codemirror_mode": {
    "name": "ipython",
    "version": 3
   },
   "file_extension": ".py",
   "mimetype": "text/x-python",
   "name": "python",
   "nbconvert_exporter": "python",
   "pygments_lexer": "ipython3",
   "version": "3.7.2"
  }
 },
 "nbformat": 4,
 "nbformat_minor": 4
}
