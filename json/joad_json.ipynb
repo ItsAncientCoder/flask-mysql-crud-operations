{
 "cells": [
  {
   "cell_type": "code",
   "execution_count": 64,
   "metadata": {},
   "outputs": [],
   "source": [
    "import json\n",
    "import os\n",
    "\n",
    "with open('rows.json','r') as json_file:\n",
    "    json_data = json.load(json_file)\n",
    "for i in json_data['data']:\n",
    "    for j in i:\n",
    "        #print(type(j))\n",
    "        i =1"
   ]
  },
  {
   "cell_type": "code",
   "execution_count": 72,
   "metadata": {},
   "outputs": [
    {
     "name": "stdout",
     "output_type": "stream",
     "text": [
      "Title -> The Social Network\n",
      "Year -> 2010\n",
      "Rated -> PG-13\n",
      "Released -> 01 Oct 2010\n",
      "Runtime -> 120 min\n",
      "Genre -> Biography, Drama\n",
      "Director -> David Fincher\n",
      "Writer -> Aaron Sorkin (screenplay), Ben Mezrich (book)\n",
      "Actors -> Jesse Eisenberg, Rooney Mara, Bryan Barter, Dustin Fitzsimons\n",
      "Plot -> Harvard student Mark Zuckerberg creates the social networking site. That would become known as Facebook but is later sued by two brothers who claimed he stole their idea, and the co-founder who was later squeezed out of the business.\n",
      "Language -> English, French\n",
      "Country -> USA\n",
      "Awards -> Won 3 Oscars. Another 165 wins & 168 nominations.\n",
      "Poster -> https://m.media-amazon.com/images/M/MV5BOGUyZDUxZjEtMmIzMC00MzlmLTg4MGItZWJmMzBhZjE0Mjc1XkEyXkFqcGdeQXVyMTMxODk2OTU@._V1_SX300.jpg\n",
      "Ratings -> [{'Source': 'Internet Movie Database', 'Value': '7.7/10'}, {'Source': 'Rotten Tomatoes', 'Value': '95%'}, {'Source': 'Metacritic', 'Value': '95/100'}]\n",
      "Metascore -> 95\n",
      "imdbRating -> 7.7\n",
      "imdbVotes -> 571,335\n",
      "imdbID -> tt1285016\n",
      "Type -> movie\n",
      "DVD -> 11 Jan 2011\n",
      "BoxOffice -> $96,400,000\n",
      "Production -> Columbia Pictures\n",
      "Website -> http://www.thesocialnetwork-movie.com/\n",
      "Response -> True\n"
     ]
    }
   ],
   "source": [
    "import requests\n",
    "\n",
    "url = 'http://www.omdbapi.com/?apikey=72bc447a&t=the+social+network'\n",
    "resp = requests.get(url)\n",
    "json_data = resp.json()\n",
    "for key in json_data.keys():\n",
    "    print(key,'->',json_data[key])"
   ]
  },
  {
   "cell_type": "code",
   "execution_count": 87,
   "metadata": {
    "scrolled": true
   },
   "outputs": [
    {
     "name": "stdout",
     "output_type": "stream",
     "text": [
      "<p class=\"mw-empty-elt\">\n",
      "</p>\n",
      "<p>\n",
      " <b>\n",
      "  Pizza\n",
      " </b>\n",
      " (\n",
      " <small>\n",
      "  Italian:\n",
      " </small>\n",
      " <span title=\"Representation in the International Phonetic Alphabet (IPA)\">\n",
      "  [ˈpittsa]\n",
      " </span>\n",
      " ,\n",
      " <small>\n",
      "  Neapolitan:\n",
      " </small>\n",
      " <span title=\"Representation in the International Phonetic Alphabet (IPA)\">\n",
      "  [ˈpittsə]\n",
      " </span>\n",
      " ) is a savory dish of Italian origin, consisting of a usually round, flattened base of leavened wheat-based dough topped with tomatoes, cheese, and various other ingredients (anchovies, olives, meat, etc.) baked at a high temperature, traditionally in a wood-fired oven. In formal settings, like a restaurant, pizza is eaten with knife and fork, but in casual settings it is cut into wedges to be eaten while held in the hand. Small pizzas are sometimes called pizzettas.\n",
      "</p>\n",
      "<p>\n",
      " The term\n",
      " <i>\n",
      "  pizza\n",
      " </i>\n",
      " was first recorded in the 10th century in a Latin manuscript from the Southern Italian town of Gaeta in Lazio, on the border with Campania. Modern pizza was invented in Naples, and the dish and its variants have since become popular in many countries. It has become one of the most popular foods in the world and a common fast food item in Europe and North America, available at pizzerias (restaurants specializing in pizza),  restaurants offering Mediterranean cuisine, and via pizza delivery. Many companies sell ready-baked frozen pizzas to be reheated in an ordinary home oven.\n",
      "</p>\n",
      "<p>\n",
      " The\n",
      " <i>\n",
      "  Associazione Verace Pizza Napoletana\n",
      " </i>\n",
      " (lit. True Neapolitan Pizza Association) is a non-profit organization founded in 1984 with headquarters in Naples that aims to promote traditional Neapolitan pizza. In 2009, upon Italy's request, Neapolitan pizza was registered with the European Union as a Traditional Speciality Guaranteed dish, and in 2017 the art of its making was included on UNESCO's list of intangible cultural heritage.\n",
      "</p>\n"
     ]
    }
   ],
   "source": [
    "url2 = 'https://en.wikipedia.org/w/api.php?action=query&prop=extracts&format=json&exintro=&titles=pizza'\n",
    "resp2 = requests.get(url2)\n",
    "json_data2 = resp2.json()\n",
    "\n",
    "from bs4 import BeautifulSoup\n",
    "\n",
    "soup = BeautifulSoup(json_data2['query']['pages']['24768']['extract'], 'html.parser')\n",
    "print(soup.prettify())"
   ]
  }
 ],
 "metadata": {
  "kernelspec": {
   "display_name": "Python 3",
   "language": "python",
   "name": "python3"
  },
  "language_info": {
   "codemirror_mode": {
    "name": "ipython",
    "version": 3
   },
   "file_extension": ".py",
   "mimetype": "text/x-python",
   "name": "python",
   "nbconvert_exporter": "python",
   "pygments_lexer": "ipython3",
   "version": "3.7.2"
  }
 },
 "nbformat": 4,
 "nbformat_minor": 2
}
