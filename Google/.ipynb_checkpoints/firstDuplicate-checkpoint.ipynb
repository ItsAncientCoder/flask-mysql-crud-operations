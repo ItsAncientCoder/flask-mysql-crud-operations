{
 "cells": [
  {
   "cell_type": "code",
   "execution_count": 67,
   "metadata": {},
   "outputs": [],
   "source": [
    "given_num = [1,4,5,3,2,5,3,2,5]"
   ]
  },
  {
   "cell_type": "code",
   "execution_count": 68,
   "metadata": {},
   "outputs": [],
   "source": [
    "length = len(given_num)"
   ]
  },
  {
   "cell_type": "code",
   "execution_count": 87,
   "metadata": {},
   "outputs": [
    {
     "name": "stdout",
     "output_type": "stream",
     "text": [
      "5 2 : 5 5\n",
      "3 3 : 3 6\n",
      "{5: (2, 5), 3: (3, 6)}\n"
     ]
    }
   ],
   "source": [
    "counter = 0\n",
    "dict_positions = dict()\n",
    "for i in range(length):\n",
    "    for j in range(i+1, length):\n",
    "        if given_num[i]==given_num[j]:\n",
    "            print(given_num[i],i,':',given_num[j],j)\n",
    "            dict_positions[given_num[i]]=(i,j)\n",
    "            counter = counter + 1\n",
    "            break;\n",
    "    if counter == 2:\n",
    "        break;\n",
    "print(dict_positions)"
   ]
  },
  {
   "cell_type": "code",
   "execution_count": 89,
   "metadata": {},
   "outputs": [
    {
     "name": "stdout",
     "output_type": "stream",
     "text": [
      "5 (2, 5)\n",
      "3 (3, 6)\n"
     ]
    }
   ],
   "source": [
    "for key, value in dict_positions.items():\n",
    "    print(key, value)"
   ]
  },
  {
   "cell_type": "code",
   "execution_count": 106,
   "metadata": {},
   "outputs": [],
   "source": [
    "keys = list(dict_positions.keys())"
   ]
  },
  {
   "cell_type": "code",
   "execution_count": 107,
   "metadata": {},
   "outputs": [
    {
     "name": "stdout",
     "output_type": "stream",
     "text": [
      "5\n"
     ]
    }
   ],
   "source": [
    "if dict_positions[keys[0]] < dict_positions[keys[1]]:\n",
    "    print(keys[0])\n",
    "else:\n",
    "    print(keys[1])"
   ]
  },
  {
   "cell_type": "code",
   "execution_count": null,
   "metadata": {},
   "outputs": [],
   "source": []
  },
  {
   "cell_type": "code",
   "execution_count": 117,
   "metadata": {},
   "outputs": [
    {
     "name": "stdout",
     "output_type": "stream",
     "text": [
      "{1: (0, 5), 2: (1, 6)}\n",
      "1\n"
     ]
    }
   ],
   "source": [
    "given_num = [1,2,5,3,5,1,2,3,2,5]\n",
    "length = len(given_num)\n",
    "\n",
    "counter = 0\n",
    "dict_positions = dict()\n",
    "for i in range(length):\n",
    "    for j in range(i+1, length):\n",
    "        if given_num[i]==given_num[j]:\n",
    "            dict_positions[given_num[i]]=(i,j)\n",
    "            counter = counter + 1\n",
    "            break;\n",
    "    if counter == 2:\n",
    "        break;\n",
    "print(dict_positions)\n",
    "\n",
    "keys = list(dict_positions.keys())\n",
    "\n",
    "if dict_positions[keys[0]][1] < dict_positions[keys[1]][1]:\n",
    "    print(keys[0])\n",
    "else:\n",
    "    print(keys[1])"
   ]
  }
 ],
 "metadata": {
  "kernelspec": {
   "display_name": "Python 3",
   "language": "python",
   "name": "python3"
  },
  "language_info": {
   "codemirror_mode": {
    "name": "ipython",
    "version": 3
   },
   "file_extension": ".py",
   "mimetype": "text/x-python",
   "name": "python",
   "nbconvert_exporter": "python",
   "pygments_lexer": "ipython3",
   "version": "3.7.4"
  }
 },
 "nbformat": 4,
 "nbformat_minor": 4
}
