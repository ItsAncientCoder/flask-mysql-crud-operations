{
 "cells": [
  {
   "cell_type": "markdown",
   "metadata": {},
   "source": [
    "### **Google**\n",
    "https://youtu.be/XSdr_O-XVRQ"
   ]
  },
  {
   "cell_type": "code",
   "execution_count": null,
   "metadata": {},
   "outputs": [],
   "source": []
  },
  {
   "cell_type": "markdown",
   "metadata": {},
   "source": [
    "**MY Solution:**"
   ]
  },
  {
   "cell_type": "code",
   "execution_count": 67,
   "metadata": {},
   "outputs": [],
   "source": [
    "given_num = [1,4,5,3,2,5,3,2,5]"
   ]
  },
  {
   "cell_type": "code",
   "execution_count": 68,
   "metadata": {},
   "outputs": [],
   "source": [
    "length = len(given_num)"
   ]
  },
  {
   "cell_type": "code",
   "execution_count": 87,
   "metadata": {},
   "outputs": [
    {
     "name": "stdout",
     "output_type": "stream",
     "text": [
      "5 2 : 5 5\n",
      "3 3 : 3 6\n",
      "{5: (2, 5), 3: (3, 6)}\n"
     ]
    }
   ],
   "source": [
    "counter = 0\n",
    "dict_positions = dict()\n",
    "for i in range(length):\n",
    "    for j in range(i+1, length):\n",
    "        if given_num[i]==given_num[j]:\n",
    "            print(given_num[i],i,':',given_num[j],j)\n",
    "            dict_positions[given_num[i]]=(i,j)\n",
    "            counter = counter + 1\n",
    "            break;\n",
    "    if counter == 2:\n",
    "        break;\n",
    "print(dict_positions)"
   ]
  },
  {
   "cell_type": "code",
   "execution_count": 89,
   "metadata": {},
   "outputs": [
    {
     "name": "stdout",
     "output_type": "stream",
     "text": [
      "5 (2, 5)\n",
      "3 (3, 6)\n"
     ]
    }
   ],
   "source": [
    "for key, value in dict_positions.items():\n",
    "    print(key, value)"
   ]
  },
  {
   "cell_type": "code",
   "execution_count": 106,
   "metadata": {},
   "outputs": [],
   "source": [
    "keys = list(dict_positions.keys())"
   ]
  },
  {
   "cell_type": "code",
   "execution_count": 107,
   "metadata": {},
   "outputs": [
    {
     "name": "stdout",
     "output_type": "stream",
     "text": [
      "5\n"
     ]
    }
   ],
   "source": [
    "if dict_positions[keys[0]] < dict_positions[keys[1]]:\n",
    "    print(keys[0])\n",
    "else:\n",
    "    print(keys[1])"
   ]
  },
  {
   "cell_type": "code",
   "execution_count": 136,
   "metadata": {},
   "outputs": [],
   "source": [
    "def firstDuplicate(a):\n",
    "    length = len(a)\n",
    "    counter = 0\n",
    "    dict_positions = dict()\n",
    "    for i in range(length):\n",
    "        for j in range(i+1, length):\n",
    "            if a[i]== a[j]:\n",
    "                dict_positions[a[i]]=(i,j)\n",
    "                counter = counter + 1\n",
    "                break;\n",
    "        if counter == 2:\n",
    "            break;\n",
    "\n",
    "    keys = list(dict_positions.keys())\n",
    "\n",
    "    if len(keys) == 1:\n",
    "        return keys[0]\n",
    "    elif len(keys) == 2:\n",
    "        if dict_positions[keys[0]][1] < dict_positions[keys[1]][1]:\n",
    "            return keys[0]\n",
    "        else:\n",
    "            return keys[1]\n",
    "    else:\n",
    "        return -1"
   ]
  },
  {
   "cell_type": "code",
   "execution_count": 137,
   "metadata": {},
   "outputs": [
    {
     "data": {
      "text/plain": [
       "3"
      ]
     },
     "execution_count": 137,
     "metadata": {},
     "output_type": "execute_result"
    }
   ],
   "source": [
    "firstDuplicate([2, 1, 3, 5, 3, 2])"
   ]
  },
  {
   "cell_type": "code",
   "execution_count": 134,
   "metadata": {},
   "outputs": [
    {
     "data": {
      "text/plain": [
       "2"
      ]
     },
     "execution_count": 134,
     "metadata": {},
     "output_type": "execute_result"
    }
   ],
   "source": [
    "firstDuplicate([2, 2])"
   ]
  },
  {
   "cell_type": "code",
   "execution_count": 138,
   "metadata": {},
   "outputs": [
    {
     "data": {
      "text/plain": [
       "4"
      ]
     },
     "execution_count": 138,
     "metadata": {},
     "output_type": "execute_result"
    }
   ],
   "source": [
    "firstDuplicate([8, 4, 6, 2, 6, 4, 7, 9, 5, 8])"
   ]
  },
  {
   "cell_type": "markdown",
   "metadata": {},
   "source": [
    "**YouTube:**"
   ]
  },
  {
   "cell_type": "code",
   "execution_count": null,
   "metadata": {},
   "outputs": [],
   "source": []
  }
 ],
 "metadata": {
  "kernelspec": {
   "display_name": "Python 3",
   "language": "python",
   "name": "python3"
  },
  "language_info": {
   "codemirror_mode": {
    "name": "ipython",
    "version": 3
   },
   "file_extension": ".py",
   "mimetype": "text/x-python",
   "name": "python",
   "nbconvert_exporter": "python",
   "pygments_lexer": "ipython3",
   "version": "3.7.4"
  }
 },
 "nbformat": 4,
 "nbformat_minor": 4
}
