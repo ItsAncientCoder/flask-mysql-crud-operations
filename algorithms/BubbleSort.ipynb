{
 "cells": [
  {
   "cell_type": "code",
   "execution_count": 14,
   "metadata": {},
   "outputs": [],
   "source": [
    "def bubbleSort(nums):\n",
    "    for j in range(len(nums)):\n",
    "        for i in range(len(nums)-1):\n",
    "            if nums[i]>nums[i+1]:\n",
    "                a = nums[i]\n",
    "                b = nums[i+1]\n",
    "                nums[i+1] = a\n",
    "                nums[i] = b\n",
    "    return nums"
   ]
  },
  {
   "cell_type": "code",
   "execution_count": 36,
   "metadata": {},
   "outputs": [
    {
     "name": "stdout",
     "output_type": "stream",
     "text": [
      "[-9, -5, -4, -1, 2, 4, 6, 6, 8, 9]\n"
     ]
    }
   ],
   "source": [
    "import numpy as np\n",
    "nums = np.random.randint(low = -10, high = 10, size = 10).tolist()\n",
    "print(bubbleSort(nums))"
   ]
  },
  {
   "cell_type": "code",
   "execution_count": null,
   "metadata": {},
   "outputs": [],
   "source": []
  }
 ],
 "metadata": {
  "kernelspec": {
   "display_name": "Python 3",
   "language": "python",
   "name": "python3"
  },
  "language_info": {
   "codemirror_mode": {
    "name": "ipython",
    "version": 3
   },
   "file_extension": ".py",
   "mimetype": "text/x-python",
   "name": "python",
   "nbconvert_exporter": "python",
   "pygments_lexer": "ipython3",
   "version": "3.7.6"
  }
 },
 "nbformat": 4,
 "nbformat_minor": 4
}
