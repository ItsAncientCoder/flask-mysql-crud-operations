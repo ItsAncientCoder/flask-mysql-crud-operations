{
 "cells": [
  {
   "cell_type": "code",
   "execution_count": 1,
   "metadata": {},
   "outputs": [],
   "source": [
    "# https://youtu.be/j5uXyPJ0Pew?list=PL2_aWCzGMAwL3ldWlrii6YeLszojgH77j\n",
    "\n",
    "def binarySearch(nums, x): # x --> to search\n",
    "    n = len(nums)\n",
    "    start = 0\n",
    "    end = n-1\n",
    "    \n",
    "    while start <=end:\n",
    "        mid = round((start+end)/2)\n",
    "        print('({}+{})/2={}'.format(start,end,mid))\n",
    "        if x == nums[mid]:\n",
    "            return mid\n",
    "        elif x < nums[mid]:\n",
    "            end = mid -1\n",
    "            start = start\n",
    "        else:\n",
    "            start = mid+1\n",
    "            end = end\n",
    "    return -1"
   ]
  },
  {
   "cell_type": "code",
   "execution_count": 2,
   "metadata": {},
   "outputs": [
    {
     "name": "stdout",
     "output_type": "stream",
     "text": [
      "(0+11)/2=6\n",
      "(7+11)/2=9\n",
      "(10+11)/2=10\n"
     ]
    },
    {
     "data": {
      "text/plain": [
       "-1"
      ]
     },
     "execution_count": 2,
     "metadata": {},
     "output_type": "execute_result"
    }
   ],
   "source": [
    "binarySearch([1,2,3,4,5,6,7,8,9,10,44,16], 25)"
   ]
  },
  {
   "cell_type": "code",
   "execution_count": 3,
   "metadata": {},
   "outputs": [
    {
     "name": "stdout",
     "output_type": "stream",
     "text": [
      "(0+11)/2=6\n",
      "(7+11)/2=9\n"
     ]
    },
    {
     "data": {
      "text/plain": [
       "9"
      ]
     },
     "execution_count": 3,
     "metadata": {},
     "output_type": "execute_result"
    }
   ],
   "source": [
    "binarySearch([1,2,3,4,5,6,7,8,9,10,44,16], 10)"
   ]
  },
  {
   "cell_type": "code",
   "execution_count": 9,
   "metadata": {},
   "outputs": [
    {
     "name": "stdout",
     "output_type": "stream",
     "text": [
      "(0+9)/2=4\n",
      "(5+9)/2=7\n",
      "(8+9)/2=8\n",
      "(9+9)/2=9\n"
     ]
    },
    {
     "data": {
      "text/plain": [
       "-1"
      ]
     },
     "execution_count": 9,
     "metadata": {},
     "output_type": "execute_result"
    }
   ],
   "source": [
    "#this will work only if the array is in ascending order\n",
    "binarySearch([10, 9, 8, 7, 6, 5, 4, 3, 2, 1], 9)"
   ]
  }
 ],
 "metadata": {
  "kernelspec": {
   "display_name": "Python 3",
   "language": "python",
   "name": "python3"
  },
  "language_info": {
   "codemirror_mode": {
    "name": "ipython",
    "version": 3
   },
   "file_extension": ".py",
   "mimetype": "text/x-python",
   "name": "python",
   "nbconvert_exporter": "python",
   "pygments_lexer": "ipython3",
   "version": "3.7.6"
  }
 },
 "nbformat": 4,
 "nbformat_minor": 4
}
