{
 "cells": [
  {
   "cell_type": "code",
   "execution_count": 94,
   "metadata": {},
   "outputs": [],
   "source": [
    "def mergeSort(arr):\n",
    "    if len(arr)>1:\n",
    "        mid = len(arr)//2\n",
    "        L = arr[:mid]\n",
    "        R = arr[mid:]\n",
    "        \n",
    "        print('arr',arr)\n",
    "        mergeSort(L)\n",
    "        mergeSort(R)\n",
    "        \n",
    "        i = j = k = 0\n",
    "        \n",
    "        while i<len(L) and j<len(R):\n",
    "            #print('L', L)\n",
    "            #print('R', R)\n",
    "            if L[i] < R[j]:\n",
    "                arr[k] = L[i]\n",
    "                i+=1\n",
    "            else:\n",
    "                arr[k] = R[j]\n",
    "                j+=1\n",
    "            k+=1\n",
    "        \n",
    "        while i < len(L):\n",
    "            #print('L in i<len', L)\n",
    "            #print('R in i<len', R)\n",
    "            arr[k] = L[i]\n",
    "            i+=1\n",
    "            k+=1\n",
    "        while j < len(R):\n",
    "            #print('L in j<len', L)\n",
    "            #print('R in j<len', R)\n",
    "            arr[k] = R[j]\n",
    "            j+=1\n",
    "            k+=1"
   ]
  },
  {
   "cell_type": "code",
   "execution_count": 98,
   "metadata": {},
   "outputs": [
    {
     "name": "stdout",
     "output_type": "stream",
     "text": [
      "arr [14, 18, 1, 5, 1, 14, 23, 13, 14, 27]\n",
      "arr [14, 18, 1, 5, 1]\n",
      "arr [14, 18]\n",
      "arr [1, 5, 1]\n",
      "arr [5, 1]\n",
      "arr [14, 23, 13, 14, 27]\n",
      "arr [14, 23]\n",
      "arr [13, 14, 27]\n",
      "arr [14, 27]\n",
      "[1, 1, 5, 13, 14, 14, 14, 18, 23, 27]\n"
     ]
    }
   ],
   "source": [
    "import numpy as np\n",
    "nums = np.random.randint(low = 1, high = 30, size = 10).tolist()\n",
    "mergeSort(nums)\n",
    "print(nums)"
   ]
  },
  {
   "cell_type": "code",
   "execution_count": null,
   "metadata": {},
   "outputs": [],
   "source": []
  },
  {
   "cell_type": "code",
   "execution_count": null,
   "metadata": {},
   "outputs": [],
   "source": []
  }
 ],
 "metadata": {
  "kernelspec": {
   "display_name": "Python 3",
   "language": "python",
   "name": "python3"
  },
  "language_info": {
   "codemirror_mode": {
    "name": "ipython",
    "version": 3
   },
   "file_extension": ".py",
   "mimetype": "text/x-python",
   "name": "python",
   "nbconvert_exporter": "python",
   "pygments_lexer": "ipython3",
   "version": "3.7.6"
  }
 },
 "nbformat": 4,
 "nbformat_minor": 4
}
