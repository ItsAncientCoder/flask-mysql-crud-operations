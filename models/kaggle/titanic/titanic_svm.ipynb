{
 "cells": [
  {
   "cell_type": "code",
   "execution_count": 1,
   "metadata": {},
   "outputs": [
    {
     "data": {
      "text/html": [
       "<div>\n",
       "<style scoped>\n",
       "    .dataframe tbody tr th:only-of-type {\n",
       "        vertical-align: middle;\n",
       "    }\n",
       "\n",
       "    .dataframe tbody tr th {\n",
       "        vertical-align: top;\n",
       "    }\n",
       "\n",
       "    .dataframe thead th {\n",
       "        text-align: right;\n",
       "    }\n",
       "</style>\n",
       "<table border=\"1\" class=\"dataframe\">\n",
       "  <thead>\n",
       "    <tr style=\"text-align: right;\">\n",
       "      <th></th>\n",
       "      <th>PassengerId</th>\n",
       "      <th>Survived</th>\n",
       "      <th>Pclass</th>\n",
       "      <th>Name</th>\n",
       "      <th>Sex</th>\n",
       "      <th>Age</th>\n",
       "      <th>SibSp</th>\n",
       "      <th>Parch</th>\n",
       "      <th>Ticket</th>\n",
       "      <th>Fare</th>\n",
       "      <th>Cabin</th>\n",
       "      <th>Embarked</th>\n",
       "    </tr>\n",
       "  </thead>\n",
       "  <tbody>\n",
       "    <tr>\n",
       "      <th>0</th>\n",
       "      <td>1</td>\n",
       "      <td>0</td>\n",
       "      <td>3</td>\n",
       "      <td>Braund, Mr. Owen Harris</td>\n",
       "      <td>male</td>\n",
       "      <td>22.0</td>\n",
       "      <td>1</td>\n",
       "      <td>0</td>\n",
       "      <td>A/5 21171</td>\n",
       "      <td>7.25</td>\n",
       "      <td>NaN</td>\n",
       "      <td>S</td>\n",
       "    </tr>\n",
       "  </tbody>\n",
       "</table>\n",
       "</div>"
      ],
      "text/plain": [
       "   PassengerId  Survived  Pclass                     Name   Sex   Age  SibSp  \\\n",
       "0            1         0       3  Braund, Mr. Owen Harris  male  22.0      1   \n",
       "\n",
       "   Parch     Ticket  Fare Cabin Embarked  \n",
       "0      0  A/5 21171  7.25   NaN        S  "
      ]
     },
     "execution_count": 1,
     "metadata": {},
     "output_type": "execute_result"
    }
   ],
   "source": [
    "import pandas as pd\n",
    "import numpy as np\n",
    "\n",
    "df = pd.read_csv('./titanic_data/train.csv')\n",
    "df.head(1)"
   ]
  },
  {
   "cell_type": "code",
   "execution_count": 2,
   "metadata": {},
   "outputs": [],
   "source": [
    "def drop_add_unwanted_columns(df_):\n",
    "    # drop less useful columns\n",
    "    df_.drop(['Name','Ticket','Cabin'],axis='columns', inplace=True)\n",
    "\n",
    "    # combine & drop\n",
    "    df_['family_mem_count'] = df_.SibSp + df_.Parch\n",
    "    df_.drop(['SibSp','Parch'],axis='columns', inplace=True)\n",
    "    \n",
    "    return df_;\n",
    "    \n",
    "def convert_categorial_columns(df_):\n",
    "    df_['Sex'] = df_['Sex'].astype('category')\n",
    "    df_['Pclass'] = df_['Pclass'].astype('category')\n",
    "    df_['Embarked'] = df_['Embarked'].astype('category')\n",
    "    if 'Survived' in list(df_.columns):\n",
    "        df_['Survived'] = df_['Survived'].astype('category')\n",
    "    return df_;\n",
    "\n",
    "def fill_missing_values(df_):\n",
    "    df_ = df_.fillna({'Embarked': df_.Embarked.value_counts(dropna=False).index[0], 'Age': np.mean(df_.Age), 'Fare': np.mean(df_.Fare)})\n",
    "    df_.Embarked.value_counts(dropna=False)\n",
    "    return df_;\n",
    "\n",
    "def get_feature_target_columns(df_):\n",
    "    X = df_[['PassengerId', 'Pclass', 'Sex', 'Age', 'Fare', 'Embarked',\n",
    "       'family_mem_count']]\n",
    "    y = df_.Survived\n",
    "    \n",
    "    return X,y"
   ]
  },
  {
   "cell_type": "code",
   "execution_count": 3,
   "metadata": {},
   "outputs": [
    {
     "data": {
      "text/plain": [
       "0"
      ]
     },
     "execution_count": 3,
     "metadata": {},
     "output_type": "execute_result"
    }
   ],
   "source": [
    "df = drop_add_unwanted_columns(df)\n",
    "df = convert_categorial_columns(df)\n",
    "df = fill_missing_values(df)\n",
    "\n",
    "df.isnull().sum().sum()"
   ]
  },
  {
   "cell_type": "code",
   "execution_count": 4,
   "metadata": {},
   "outputs": [],
   "source": [
    "from sklearn.compose import make_column_transformer\n",
    "from sklearn.preprocessing import OneHotEncoder, StandardScaler\n",
    "from sklearn.impute import SimpleImputer\n",
    "from sklearn.svm import SVC\n",
    "from sklearn.metrics import confusion_matrix, classification_report\n",
    "from sklearn.pipeline import make_pipeline\n",
    "\n",
    "column_transf = make_column_transformer(\n",
    "    #(StandardScaler(), ['Age','Fare']),\n",
    "    (OneHotEncoder(), ['Pclass','Sex','Embarked']), \n",
    "    remainder='passthrough')\n",
    "\n",
    "clf = SVC(random_state=1)\n",
    "pipe = make_pipeline(column_transf, clf)\n",
    "\n",
    "X, y = get_feature_target_columns(df)\n",
    "# sorted(pipe.get_params().keys())[len(pipe.get_params().keys())-20:]"
   ]
  },
  {
   "cell_type": "code",
   "execution_count": 5,
   "metadata": {},
   "outputs": [],
   "source": [
    "from sklearn.model_selection import train_test_split\n",
    "\n",
    "X_train, X_test, y_train, y_test = train_test_split(X, y, test_size=0.2, random_state=1)\n",
    "# pipe.fit(X_train, y_train)"
   ]
  },
  {
   "cell_type": "code",
   "execution_count": null,
   "metadata": {},
   "outputs": [],
   "source": [
    "# pipe.score(X,y)"
   ]
  },
  {
   "cell_type": "code",
   "execution_count": null,
   "metadata": {},
   "outputs": [],
   "source": [
    "# pipe.score(X_test, y_test)"
   ]
  },
  {
   "cell_type": "code",
   "execution_count": null,
   "metadata": {},
   "outputs": [],
   "source": [
    "sorted(pipe.get_params().keys())[len(pipe.get_params().keys())-20:]"
   ]
  },
  {
   "cell_type": "code",
   "execution_count": null,
   "metadata": {},
   "outputs": [],
   "source": [
    "c_values = np.linspace(0.1, 1, 10).tolist()\n",
    "gamma_values = np.linspace(0.00001, 1, 20)\n",
    "kernel_values = ['linear', 'rbf', 'poly']\n",
    "\n",
    "params = {'svc__C':c_values, 'svc__gamma': gamma_values, 'svc__kernel' : kernel_values}\n",
    "\n",
    "from sklearn.model_selection import GridSearchCV\n",
    "\n",
    "grid = GridSearchCV(pipe, scoring='accuracy', cv=10, param_grid=params)\n",
    "\n",
    "grid.fit(X_train,y_train)"
   ]
  },
  {
   "cell_type": "code",
   "execution_count": null,
   "metadata": {},
   "outputs": [],
   "source": [
    "grid.score(X_test, y_test)"
   ]
  },
  {
   "cell_type": "markdown",
   "metadata": {},
   "source": [
    "### **0.8765432098765432**"
   ]
  },
  {
   "cell_type": "code",
   "execution_count": null,
   "metadata": {},
   "outputs": [],
   "source": [
    "df_test = pd.read_csv('./titanic_data/test.csv')\n",
    "\n",
    "df_test = drop_add_unwanted_columns(df_test)\n",
    "df_test = convert_categorial_columns(df_test)\n",
    "df_test = fill_missing_values(df_test)\n",
    "\n",
    "df_test.isnull().sum()"
   ]
  },
  {
   "cell_type": "code",
   "execution_count": null,
   "metadata": {},
   "outputs": [],
   "source": [
    "test_y_predicted = pipe.predict(df_test)\n",
    "\n",
    "submission_data = {'PassengerId':list(df_test.PassengerId), 'Survived':list(test_y_predicted)}\n",
    "\n",
    "submission_df = pd.DataFrame(submission_data)\n",
    "\n",
    "submission_df.sort_values('PassengerId',ascending=True, inplace=True)\n",
    "submission_df.to_csv('titanic_submission.csv',index=False)"
   ]
  },
  {
   "cell_type": "code",
   "execution_count": null,
   "metadata": {},
   "outputs": [],
   "source": [
    "y_pred = pipe.predict(X_test)\n",
    "cm = confusion_matrix(y_pred, y_test)\n",
    "\n",
    "import seaborn as sns\n",
    "import matplotlib.pyplot as plt\n",
    "\n",
    "print(pipe.score(X_test, y_test))\n",
    "\n",
    "plt.figure(figsize=(8,5))\n",
    "sns.heatmap(cm, annot=True)\n",
    "plt.show()"
   ]
  },
  {
   "cell_type": "code",
   "execution_count": null,
   "metadata": {},
   "outputs": [],
   "source": []
  }
 ],
 "metadata": {
  "kernelspec": {
   "display_name": "Python 3",
   "language": "python",
   "name": "python3"
  },
  "language_info": {
   "codemirror_mode": {
    "name": "ipython",
    "version": 3
   },
   "file_extension": ".py",
   "mimetype": "text/x-python",
   "name": "python",
   "nbconvert_exporter": "python",
   "pygments_lexer": "ipython3",
   "version": "3.7.4"
  }
 },
 "nbformat": 4,
 "nbformat_minor": 4
}
