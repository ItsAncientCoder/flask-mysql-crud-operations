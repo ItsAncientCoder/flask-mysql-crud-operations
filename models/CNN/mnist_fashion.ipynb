{
 "cells": [
  {
   "cell_type": "code",
   "execution_count": null,
   "metadata": {},
   "outputs": [],
   "source": [
    "# https://www.udemy.com/course/machine-learning-practical/learn/lecture/11789822#announcements/3055752"
   ]
  },
  {
   "cell_type": "code",
   "execution_count": 29,
   "metadata": {},
   "outputs": [],
   "source": [
    "from keras.datasets import fashion_mnist\n",
    "\n",
    "(X_train, y_train), (X_test, y_test) = fashion_mnist.load_data()"
   ]
  },
  {
   "cell_type": "code",
   "execution_count": 30,
   "metadata": {},
   "outputs": [
    {
     "data": {
      "text/plain": [
       "((60000,), (10000,))"
      ]
     },
     "execution_count": 30,
     "metadata": {},
     "output_type": "execute_result"
    }
   ],
   "source": [
    "y_train.shape, y_test.shape"
   ]
  },
  {
   "cell_type": "code",
   "execution_count": 31,
   "metadata": {},
   "outputs": [],
   "source": [
    "import pandas as pd\n",
    "import numpy as np\n",
    "import matplotlib.pyplot as plt"
   ]
  },
  {
   "cell_type": "code",
   "execution_count": 32,
   "metadata": {},
   "outputs": [],
   "source": [
    "labels = ['T-shirt/top','Trouser','Pullover','Dress','Coat','Sandal','Shirt','Sneaker','Bag','Ankle boot']"
   ]
  },
  {
   "cell_type": "code",
   "execution_count": 33,
   "metadata": {},
   "outputs": [],
   "source": [
    "from keras.models import Sequential\n",
    "from keras.utils import to_categorical\n",
    "from keras.layers import Conv2D, MaxPooling2D, Dense, Flatten, Dropout\n",
    "from keras.optimizers import Adam"
   ]
  },
  {
   "cell_type": "code",
   "execution_count": 34,
   "metadata": {},
   "outputs": [],
   "source": [
    "#y_train = to_categorical(y_train)\n",
    "#y_test = to_categorical(y_test)"
   ]
  },
  {
   "cell_type": "code",
   "execution_count": 35,
   "metadata": {},
   "outputs": [],
   "source": [
    "X_train = X_train.reshape(X_train.shape[0], 28, 28, 1)\n",
    "X_test = X_test.reshape(X_test.shape[0], 28, 28, 1)"
   ]
  },
  {
   "cell_type": "code",
   "execution_count": 36,
   "metadata": {},
   "outputs": [],
   "source": [
    "def create_model():\n",
    "    model = Sequential()\n",
    "    model.add(Conv2D(32,(3,3), input_shape=(28,28,1), activation='relu'))\n",
    "    model.add(MaxPooling2D(pool_size=(2,2)))\n",
    "    model.add(Flatten())\n",
    "    model.add(Dense(units=32, activation='relu'))\n",
    "    model.add(Dense(units=10, activation='sigmoid'))\n",
    "    model.compile(loss='sparse_categorical_crossentropy', optimizer=Adam(lr=0.001), metrics=['accuracy'])\n",
    "    return model;"
   ]
  },
  {
   "cell_type": "code",
   "execution_count": 37,
   "metadata": {},
   "outputs": [],
   "source": [
    "model = create_model()"
   ]
  },
  {
   "cell_type": "code",
   "execution_count": 38,
   "metadata": {},
   "outputs": [
    {
     "name": "stdout",
     "output_type": "stream",
     "text": [
      "Train on 48000 samples, validate on 12000 samples\n",
      "Epoch 1/50\n",
      "48000/48000 [==============================] - 18s 370us/step - loss: 2.0259 - accuracy: 0.0965 - val_loss: 1.8476 - val_accuracy: 0.1014\n",
      "Epoch 2/50\n",
      "48000/48000 [==============================] - 16s 335us/step - loss: 1.8008 - accuracy: 0.1211 - val_loss: 1.7453 - val_accuracy: 0.1918\n",
      "Epoch 3/50\n",
      "48000/48000 [==============================] - 16s 340us/step - loss: 1.6743 - accuracy: 0.1908 - val_loss: 1.5852 - val_accuracy: 0.1947\n",
      "Epoch 4/50\n",
      "48000/48000 [==============================] - 16s 337us/step - loss: 1.4653 - accuracy: 0.2583 - val_loss: 1.3363 - val_accuracy: 0.4047\n",
      "Epoch 5/50\n",
      "48000/48000 [==============================] - 16s 335us/step - loss: 1.1157 - accuracy: 0.5352 - val_loss: 0.9873 - val_accuracy: 0.5918\n",
      "Epoch 6/50\n",
      "48000/48000 [==============================] - 16s 337us/step - loss: 0.8720 - accuracy: 0.6616 - val_loss: 0.8422 - val_accuracy: 0.7327\n",
      "Epoch 7/50\n",
      "48000/48000 [==============================] - 16s 336us/step - loss: 0.7332 - accuracy: 0.7703 - val_loss: 0.7657 - val_accuracy: 0.7804\n",
      "Epoch 8/50\n",
      "48000/48000 [==============================] - 17s 363us/step - loss: 0.6452 - accuracy: 0.7728 - val_loss: 0.6598 - val_accuracy: 0.7648\n",
      "Epoch 9/50\n",
      "48000/48000 [==============================] - 17s 345us/step - loss: 0.5496 - accuracy: 0.7895 - val_loss: 0.5804 - val_accuracy: 0.8063\n",
      "Epoch 10/50\n",
      "48000/48000 [==============================] - 16s 342us/step - loss: 0.4219 - accuracy: 0.8177 - val_loss: 0.4242 - val_accuracy: 0.8075\n",
      "Epoch 11/50\n",
      "48000/48000 [==============================] - 16s 330us/step - loss: 0.2847 - accuracy: 0.8758 - val_loss: 0.3292 - val_accuracy: 0.8856\n",
      "Epoch 12/50\n",
      "48000/48000 [==============================] - 16s 339us/step - loss: 0.2315 - accuracy: 0.9037 - val_loss: 0.3376 - val_accuracy: 0.8881\n",
      "Epoch 13/50\n",
      "48000/48000 [==============================] - 17s 354us/step - loss: 0.2033 - accuracy: 0.9120 - val_loss: 0.3419 - val_accuracy: 0.8917\n",
      "Epoch 14/50\n",
      "48000/48000 [==============================] - 17s 362us/step - loss: 0.1845 - accuracy: 0.9161 - val_loss: 0.3468 - val_accuracy: 0.8953\n",
      "Epoch 15/50\n",
      "48000/48000 [==============================] - 17s 346us/step - loss: 0.1651 - accuracy: 0.9246 - val_loss: 0.3479 - val_accuracy: 0.8992\n",
      "Epoch 16/50\n",
      "48000/48000 [==============================] - 16s 327us/step - loss: 0.1510 - accuracy: 0.9308 - val_loss: 0.3502 - val_accuracy: 0.9003\n",
      "Epoch 17/50\n",
      "48000/48000 [==============================] - 16s 335us/step - loss: 0.1381 - accuracy: 0.9371 - val_loss: 0.3592 - val_accuracy: 0.8981\n",
      "Epoch 18/50\n",
      "48000/48000 [==============================] - 16s 335us/step - loss: 0.1276 - accuracy: 0.9411 - val_loss: 0.3786 - val_accuracy: 0.8966\n",
      "Epoch 19/50\n",
      "48000/48000 [==============================] - 17s 349us/step - loss: 0.1172 - accuracy: 0.9466 - val_loss: 0.3778 - val_accuracy: 0.8972\n",
      "Epoch 20/50\n",
      "48000/48000 [==============================] - 17s 348us/step - loss: 0.1107 - accuracy: 0.9498 - val_loss: 0.3827 - val_accuracy: 0.8990\n",
      "Epoch 21/50\n",
      "48000/48000 [==============================] - 16s 340us/step - loss: 0.1000 - accuracy: 0.9538 - val_loss: 0.4049 - val_accuracy: 0.8978\n",
      "Epoch 22/50\n",
      "48000/48000 [==============================] - 16s 334us/step - loss: 0.0963 - accuracy: 0.9556 - val_loss: 0.3972 - val_accuracy: 0.8978\n",
      "Epoch 23/50\n",
      "48000/48000 [==============================] - 16s 334us/step - loss: 0.0912 - accuracy: 0.9576 - val_loss: 0.4038 - val_accuracy: 0.8982\n",
      "Epoch 24/50\n",
      "48000/48000 [==============================] - 16s 337us/step - loss: 0.0865 - accuracy: 0.9604 - val_loss: 0.4356 - val_accuracy: 0.9003\n",
      "Epoch 25/50\n",
      "48000/48000 [==============================] - 16s 336us/step - loss: 0.0776 - accuracy: 0.9636 - val_loss: 0.4273 - val_accuracy: 0.9032\n",
      "Epoch 26/50\n",
      "48000/48000 [==============================] - 17s 354us/step - loss: 0.0754 - accuracy: 0.9640 - val_loss: 0.4245 - val_accuracy: 0.9009\n",
      "Epoch 27/50\n",
      "48000/48000 [==============================] - 16s 330us/step - loss: 0.0709 - accuracy: 0.9661 - val_loss: 0.4429 - val_accuracy: 0.9025\n",
      "Epoch 28/50\n",
      "48000/48000 [==============================] - 16s 334us/step - loss: 0.0679 - accuracy: 0.9676 - val_loss: 0.4516 - val_accuracy: 0.9006\n",
      "Epoch 29/50\n",
      "48000/48000 [==============================] - 17s 350us/step - loss: 0.0602 - accuracy: 0.9706 - val_loss: 0.4580 - val_accuracy: 0.9002\n",
      "Epoch 30/50\n",
      "48000/48000 [==============================] - 16s 331us/step - loss: 0.0585 - accuracy: 0.9712 - val_loss: 0.4746 - val_accuracy: 0.9022\n",
      "Epoch 31/50\n",
      "48000/48000 [==============================] - 16s 330us/step - loss: 0.0532 - accuracy: 0.9732 - val_loss: 0.4713 - val_accuracy: 0.9028\n",
      "Epoch 32/50\n",
      "48000/48000 [==============================] - 16s 330us/step - loss: 0.0512 - accuracy: 0.9741 - val_loss: 0.4859 - val_accuracy: 0.9009\n",
      "Epoch 33/50\n",
      "48000/48000 [==============================] - 16s 329us/step - loss: 0.0443 - accuracy: 0.9773 - val_loss: 0.5034 - val_accuracy: 0.9032\n",
      "Epoch 34/50\n",
      "48000/48000 [==============================] - 16s 331us/step - loss: 0.0447 - accuracy: 0.9764 - val_loss: 0.5218 - val_accuracy: 0.9020\n",
      "Epoch 35/50\n",
      "48000/48000 [==============================] - 16s 329us/step - loss: 0.0413 - accuracy: 0.9780 - val_loss: 0.5267 - val_accuracy: 0.8991\n",
      "Epoch 36/50\n",
      "48000/48000 [==============================] - 16s 336us/step - loss: 0.0435 - accuracy: 0.9775 - val_loss: 0.5381 - val_accuracy: 0.8986\n",
      "Epoch 37/50\n",
      "48000/48000 [==============================] - 16s 333us/step - loss: 0.0429 - accuracy: 0.9781 - val_loss: 0.5554 - val_accuracy: 0.8989\n",
      "Epoch 38/50\n",
      "48000/48000 [==============================] - 16s 333us/step - loss: 0.0406 - accuracy: 0.9785 - val_loss: 0.5433 - val_accuracy: 0.8992\n",
      "Epoch 39/50\n",
      "48000/48000 [==============================] - 16s 331us/step - loss: 0.0380 - accuracy: 0.9799 - val_loss: 0.5565 - val_accuracy: 0.8976\n",
      "Epoch 40/50\n",
      "48000/48000 [==============================] - 16s 339us/step - loss: 0.0368 - accuracy: 0.9802 - val_loss: 0.5561 - val_accuracy: 0.9003\n",
      "Epoch 41/50\n",
      "48000/48000 [==============================] - 16s 330us/step - loss: 0.0410 - accuracy: 0.9792 - val_loss: 0.5797 - val_accuracy: 0.8965\n",
      "Epoch 42/50\n",
      "48000/48000 [==============================] - 16s 331us/step - loss: 0.0536 - accuracy: 0.9755 - val_loss: 0.5622 - val_accuracy: 0.8982\n",
      "Epoch 43/50\n",
      "48000/48000 [==============================] - 16s 331us/step - loss: 0.0496 - accuracy: 0.9773 - val_loss: 0.5874 - val_accuracy: 0.8952\n",
      "Epoch 44/50\n",
      "48000/48000 [==============================] - 16s 335us/step - loss: 0.0426 - accuracy: 0.9794 - val_loss: 0.5850 - val_accuracy: 0.9003\n",
      "Epoch 45/50\n",
      "48000/48000 [==============================] - 16s 331us/step - loss: 0.0372 - accuracy: 0.9809 - val_loss: 0.5976 - val_accuracy: 0.8988\n",
      "Epoch 46/50\n",
      "48000/48000 [==============================] - 16s 335us/step - loss: 0.0306 - accuracy: 0.9831 - val_loss: 0.6074 - val_accuracy: 0.8972\n",
      "Epoch 47/50\n",
      "48000/48000 [==============================] - 16s 338us/step - loss: 0.0349 - accuracy: 0.9815 - val_loss: 0.5962 - val_accuracy: 0.8978\n",
      "Epoch 48/50\n",
      "48000/48000 [==============================] - 16s 338us/step - loss: 0.0324 - accuracy: 0.9831 - val_loss: 0.6072 - val_accuracy: 0.8953\n",
      "Epoch 49/50\n",
      "48000/48000 [==============================] - 16s 334us/step - loss: 0.0325 - accuracy: 0.9829 - val_loss: 0.6064 - val_accuracy: 0.8978\n",
      "Epoch 50/50\n",
      "48000/48000 [==============================] - 16s 337us/step - loss: 0.0261 - accuracy: 0.9851 - val_loss: 0.6206 - val_accuracy: 0.8981\n"
     ]
    },
    {
     "data": {
      "text/plain": [
       "<keras.callbacks.callbacks.History at 0x18c4fbe1e08>"
      ]
     },
     "execution_count": 38,
     "metadata": {},
     "output_type": "execute_result"
    }
   ],
   "source": [
    "model.fit(X_train, y_train, batch_size=512, epochs=100, verbose=1, validation_split=0.3)"
   ]
  },
  {
   "cell_type": "code",
   "execution_count": 39,
   "metadata": {},
   "outputs": [
    {
     "name": "stdout",
     "output_type": "stream",
     "text": [
      "10000/10000 [==============================] - 1s 123us/step\n"
     ]
    }
   ],
   "source": [
    "_, accuracy = model.evaluate(X_test, y_test)"
   ]
  },
  {
   "cell_type": "code",
   "execution_count": 40,
   "metadata": {},
   "outputs": [
    {
     "data": {
      "text/plain": [
       "0.899399995803833"
      ]
     },
     "execution_count": 40,
     "metadata": {},
     "output_type": "execute_result"
    }
   ],
   "source": [
    "accuracy"
   ]
  },
  {
   "cell_type": "code",
   "execution_count": null,
   "metadata": {},
   "outputs": [],
   "source": [
    "accuracy"
   ]
  },
  {
   "cell_type": "code",
   "execution_count": 28,
   "metadata": {},
   "outputs": [
    {
     "data": {
      "text/plain": [
       "(60000, 10)"
      ]
     },
     "execution_count": 28,
     "metadata": {},
     "output_type": "execute_result"
    }
   ],
   "source": [
    "# https://machinelearningmastery.com/how-to-develop-a-cnn-from-scratch-for-fashion-mnist-clothing-classification/"
   ]
  },
  {
   "cell_type": "code",
   "execution_count": null,
   "metadata": {},
   "outputs": [],
   "source": [
    "from sklearn.model_selection import KFold\n",
    "\n",
    "# evaluate a model using k-fold cross-validation\n",
    "def evaluate_model(dataX, dataY, n_folds=5):\n",
    "    scores, histories = list(), list()\n",
    "    # prepare cross validation\n",
    "    kfold = KFold(n_folds, shuffle=True, random_state=1)\n",
    "    # enumerate splits\n",
    "    for train_ix, test_ix in kfold.split(dataX):\n",
    "        # define model\n",
    "        model = create_model()\n",
    "        # select rows for train and test\n",
    "        trainX, trainY, testX, testY = dataX[train_ix], dataY[train_ix], dataX[test_ix], dataY[test_ix]\n",
    "        # fit model\n",
    "        history = model.fit(trainX, trainY, epochs=10, batch_size=32, validation_data=(testX, testY), verbose=0)\n",
    "        # evaluate model\n",
    "        _, acc = model.evaluate(testX, testY, verbose=0)\n",
    "        print('> %.3f' % (acc * 100.0))\n",
    "        # append scores\n",
    "        scores.append(acc)\n",
    "        histories.append(history)\n",
    "    return scores, histories\n",
    "\n",
    "# plot diagnostic learning curves\n",
    "def summarize_diagnostics(histories):\n",
    "    for i in range(len(histories)):\n",
    "        # plot loss\n",
    "        pyplot.subplot(211)\n",
    "        pyplot.title('Cross Entropy Loss')\n",
    "        pyplot.plot(histories[i].history['loss'], color='blue', label='train')\n",
    "        pyplot.plot(histories[i].history['val_loss'], color='orange', label='test')\n",
    "        # plot accuracy\n",
    "        pyplot.subplot(212)\n",
    "        pyplot.title('Classification Accuracy')\n",
    "        pyplot.plot(histories[i].history['accuracy'], color='blue', label='train')\n",
    "        pyplot.plot(histories[i].history['val_accuracy'], color='orange', label='test')\n",
    "    pyplot.show()\n",
    "\n",
    "# summarize model performance\n",
    "def summarize_performance(scores):\n",
    "    # print summary\n",
    "    print('Accuracy: mean=%.3f std=%.3f, n=%d' % (mean(scores)*100, std(scores)*100, len(scores)))\n",
    "    # box and whisker plots of results\n",
    "    pyplot.boxplot(scores)\n",
    "    pyplot.show()"
   ]
  },
  {
   "cell_type": "code",
   "execution_count": null,
   "metadata": {},
   "outputs": [],
   "source": []
  },
  {
   "cell_type": "code",
   "execution_count": null,
   "metadata": {},
   "outputs": [
    {
     "name": "stdout",
     "output_type": "stream",
     "text": [
      "> 89.433\n",
      "> 89.250\n"
     ]
    }
   ],
   "source": [
    "scores, histories = evaluate_model(X_train, y_train)"
   ]
  },
  {
   "cell_type": "code",
   "execution_count": null,
   "metadata": {},
   "outputs": [],
   "source": [
    "summarize_diagnostics(histories)"
   ]
  },
  {
   "cell_type": "code",
   "execution_count": null,
   "metadata": {},
   "outputs": [],
   "source": [
    "summarize_performance(scores)"
   ]
  },
  {
   "cell_type": "code",
   "execution_count": null,
   "metadata": {},
   "outputs": [],
   "source": []
  }
 ],
 "metadata": {
  "kernelspec": {
   "display_name": "Python 3",
   "language": "python",
   "name": "python3"
  },
  "language_info": {
   "codemirror_mode": {
    "name": "ipython",
    "version": 3
   },
   "file_extension": ".py",
   "mimetype": "text/x-python",
   "name": "python",
   "nbconvert_exporter": "python",
   "pygments_lexer": "ipython3",
   "version": "3.7.4"
  }
 },
 "nbformat": 4,
 "nbformat_minor": 4
}
