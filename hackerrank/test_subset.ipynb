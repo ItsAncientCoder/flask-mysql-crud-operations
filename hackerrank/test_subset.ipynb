{
 "cells": [
  {
   "cell_type": "code",
   "execution_count": 16,
   "metadata": {},
   "outputs": [
    {
     "name": "stdout",
     "output_type": "stream",
     "text": [
      "True\n",
      "False\n",
      "False\n"
     ]
    }
   ],
   "source": [
    "tc_all = list()\n",
    "with open('test_subset.txt', 'r') as file:\n",
    "    noof_tc = int(file.readline()) * 2\n",
    "    for i in range(noof_tc):\n",
    "        file.readline()\n",
    "        tc_all.append(set(map(int, str(file.readline()).split(' '))))\n",
    "tc_a = tc_all[0::2]\n",
    "tc_b = tc_all[1::2]\n",
    "for i,j in zip(tc_a,tc_b):\n",
    "    print(i.issubset(j))"
   ]
  }
 ],
 "metadata": {
  "kernelspec": {
   "display_name": "Python 3",
   "language": "python",
   "name": "python3"
  },
  "language_info": {
   "codemirror_mode": {
    "name": "ipython",
    "version": 3
   },
   "file_extension": ".py",
   "mimetype": "text/x-python",
   "name": "python",
   "nbconvert_exporter": "python",
   "pygments_lexer": "ipython3",
   "version": "3.7.2"
  }
 },
 "nbformat": 4,
 "nbformat_minor": 4
}
