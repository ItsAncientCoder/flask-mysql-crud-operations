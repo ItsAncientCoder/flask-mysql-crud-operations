{
 "cells": [
  {
   "cell_type": "code",
   "execution_count": 4,
   "metadata": {},
   "outputs": [
    {
     "name": "stdout",
     "output_type": "stream",
     "text": [
      "[0.         0.55555556 1.11111111 1.66666667 2.22222222 2.77777778\n",
      " 3.33333333 3.88888889 4.44444444 5.        ]\n"
     ]
    }
   ],
   "source": [
    "import numpy as np\n",
    "\n",
    "# give 10 equally spaced numbers bw 0, 5\n",
    "a = np.linspace(0,5, 10)\n",
    "print(a)"
   ]
  },
  {
   "cell_type": "code",
   "execution_count": 7,
   "metadata": {},
   "outputs": [
    {
     "name": "stdout",
     "output_type": "stream",
     "text": [
      "Array [[1 2]\n",
      " [3 4]\n",
      " [5 6]]\n",
      "sum of rows [ 3  7 11]\n",
      "sum of columns [ 9 12]\n"
     ]
    }
   ],
   "source": [
    "# AXIS\n",
    "\n",
    "_np = np.array([(1,2),(3,4),(5,6)])\n",
    "print('Array', _np)\n",
    "sum_cols = _np.sum(axis=0)\n",
    "sum_rows = _np.sum(axis=1)\n",
    "print('sum of rows', sum_rows)\n",
    "print('sum of columns', sum_cols)"
   ]
  },
  {
   "cell_type": "code",
   "execution_count": 13,
   "metadata": {},
   "outputs": [
    {
     "name": "stdout",
     "output_type": "stream",
     "text": [
      "1.707825127659933\n",
      "3.5\n"
     ]
    }
   ],
   "source": [
    "# STANDARD DEVIATION\n",
    "std = np.std(_np)\n",
    "print(std)\n",
    "print(np.mean(_np))"
   ]
  },
  {
   "cell_type": "code",
   "execution_count": 19,
   "metadata": {},
   "outputs": [
    {
     "name": "stdout",
     "output_type": "stream",
     "text": [
      "v_stacked: \n",
      " [[ 1  2  3]\n",
      " [ 4  5  6]\n",
      " [ 7  8  9]\n",
      " [10 11 12]]\n",
      "h_stacked: \n",
      " [[ 1  2  3  7  8  9]\n",
      " [ 4  5  6 10 11 12]]\n"
     ]
    }
   ],
   "source": [
    "# VIRTICAL AND HORIZANTAL STACKing\n",
    "a_1 = np.array([(1,2,3), (4,5,6)])\n",
    "a_2 = np.array([(7,8,9), (10,11,12)])\n",
    "v_stacked = np.vstack((a_1, a_2))\n",
    "h_stacked = np.hstack((a_1, a_2))\n",
    "print('v_stacked: \\n',v_stacked)\n",
    "print('h_stacked: \\n',h_stacked)"
   ]
  },
  {
   "cell_type": "code",
   "execution_count": 23,
   "metadata": {},
   "outputs": [
    {
     "name": "stdout",
     "output_type": "stream",
     "text": [
      "[ 1  2  3  4  5  6  7  8  9 10 11 12]\n"
     ]
    }
   ],
   "source": [
    "# RAVEL\n",
    "raveled = np.ravel(v_stacked)\n",
    "print(raveled)"
   ]
  },
  {
   "cell_type": "code",
   "execution_count": 27,
   "metadata": {},
   "outputs": [
    {
     "name": "stdout",
     "output_type": "stream",
     "text": [
      "[[ 0.84147098  0.90929743  0.14112001]\n",
      " [-0.7568025  -0.95892427 -0.2794155 ]]\n"
     ]
    }
   ],
   "source": [
    "print(np.sin(a_1))"
   ]
  }
 ],
 "metadata": {
  "kernelspec": {
   "display_name": "Python 3",
   "language": "python",
   "name": "python3"
  },
  "language_info": {
   "codemirror_mode": {
    "name": "ipython",
    "version": 3
   },
   "file_extension": ".py",
   "mimetype": "text/x-python",
   "name": "python",
   "nbconvert_exporter": "python",
   "pygments_lexer": "ipython3",
   "version": "3.7.2"
  }
 },
 "nbformat": 4,
 "nbformat_minor": 2
}
