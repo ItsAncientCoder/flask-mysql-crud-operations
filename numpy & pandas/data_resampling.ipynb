{
 "cells": [
  {
   "cell_type": "code",
   "execution_count": 1,
   "metadata": {},
   "outputs": [],
   "source": [
    "import pandas as pd"
   ]
  },
  {
   "cell_type": "code",
   "execution_count": 28,
   "metadata": {},
   "outputs": [
    {
     "name": "stdout",
     "output_type": "stream",
     "text": [
      "Date\n",
      "2010-01-01 00:00:00    44.44\n",
      "2010-01-01 05:00:00    43.36\n",
      "2010-01-01 10:00:00    54.44\n",
      "2010-01-01 15:00:00    56.40\n",
      "2010-01-01 20:00:00    47.48\n",
      "Freq: 5H, Name: Temperature, dtype: float64\n",
      "<class 'pandas.core.series.Series'>\n",
      "Date\n",
      "2010-01-01 00:00:00    44.44\n",
      "2010-01-01 05:00:00    43.36\n",
      "2010-01-01 10:00:00    54.44\n",
      "2010-01-01 15:00:00    56.40\n",
      "2010-01-01 20:00:00    47.48\n",
      "2010-01-02 01:00:00    44.12\n",
      "2010-01-02 06:00:00      NaN\n",
      "2010-01-02 11:00:00      NaN\n",
      "2010-01-02 16:00:00      NaN\n",
      "2010-01-02 21:00:00      NaN\n",
      "2010-01-03 02:00:00      NaN\n",
      "2010-01-03 07:00:00      NaN\n",
      "2010-01-03 12:00:00      NaN\n",
      "2010-01-03 17:00:00      NaN\n",
      "2010-01-03 22:00:00      NaN\n",
      "2010-01-04 03:00:00      NaN\n",
      "2010-01-04 08:00:00      NaN\n",
      "2010-01-04 13:00:00      NaN\n",
      "2010-01-04 18:00:00      NaN\n",
      "2010-01-04 23:00:00      NaN\n",
      "2010-01-05 04:00:00      NaN\n",
      "2010-01-05 09:00:00      NaN\n",
      "2010-01-05 14:00:00      NaN\n",
      "2010-01-05 19:00:00      NaN\n",
      "2010-01-06 00:00:00      NaN\n",
      "2010-01-06 05:00:00      NaN\n",
      "2010-01-06 10:00:00      NaN\n",
      "2010-01-06 15:00:00      NaN\n",
      "2010-01-06 20:00:00      NaN\n",
      "2010-01-07 01:00:00      NaN\n",
      "                       ...  \n",
      "2010-12-25 18:00:00      NaN\n",
      "2010-12-25 23:00:00      NaN\n",
      "2010-12-26 04:00:00      NaN\n",
      "2010-12-26 09:00:00      NaN\n",
      "2010-12-26 14:00:00      NaN\n",
      "2010-12-26 19:00:00      NaN\n",
      "2010-12-27 00:00:00      NaN\n",
      "2010-12-27 05:00:00      NaN\n",
      "2010-12-27 10:00:00      NaN\n",
      "2010-12-27 15:00:00      NaN\n",
      "2010-12-27 20:00:00      NaN\n",
      "2010-12-28 01:00:00      NaN\n",
      "2010-12-28 06:00:00      NaN\n",
      "2010-12-28 11:00:00      NaN\n",
      "2010-12-28 16:00:00      NaN\n",
      "2010-12-28 21:00:00      NaN\n",
      "2010-12-29 02:00:00      NaN\n",
      "2010-12-29 07:00:00      NaN\n",
      "2010-12-29 12:00:00      NaN\n",
      "2010-12-29 17:00:00      NaN\n",
      "2010-12-29 22:00:00      NaN\n",
      "2010-12-30 03:00:00      NaN\n",
      "2010-12-30 08:00:00      NaN\n",
      "2010-12-30 13:00:00      NaN\n",
      "2010-12-30 18:00:00    49.76\n",
      "2010-12-30 23:00:00    44.90\n",
      "2010-12-31 04:00:00    42.82\n",
      "2010-12-31 09:00:00    51.88\n",
      "2010-12-31 14:00:00    57.54\n",
      "2010-12-31 19:00:00    48.22\n",
      "Freq: 5H, Name: Temperature, Length: 1752, dtype: float64\n"
     ]
    }
   ],
   "source": [
    "df = pd.read_csv('data_resampling.csv', delimiter='\\t', parse_dates=True, index_col='Date')\n",
    "a = df['Temperature'].resample('5H').mean();\n",
    "print(a.head())\n",
    "print(type(a))\n",
    "print(a['2010'])"
   ]
  }
 ],
 "metadata": {
  "kernelspec": {
   "display_name": "Python 3",
   "language": "python",
   "name": "python3"
  },
  "language_info": {
   "codemirror_mode": {
    "name": "ipython",
    "version": 3
   },
   "file_extension": ".py",
   "mimetype": "text/x-python",
   "name": "python",
   "nbconvert_exporter": "python",
   "pygments_lexer": "ipython3",
   "version": "3.7.2"
  }
 },
 "nbformat": 4,
 "nbformat_minor": 2
}
