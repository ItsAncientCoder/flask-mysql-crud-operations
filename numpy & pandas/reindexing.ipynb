{
 "cells": [
  {
   "cell_type": "code",
   "execution_count": 15,
   "metadata": {},
   "outputs": [
    {
     "name": "stdout",
     "output_type": "stream",
     "text": [
      "   l2\n",
      "a   1\n",
      "b   2\n",
      "c   3\n",
      "d   4\n",
      "   l4\n",
      "a   1\n",
      "b   2\n",
      "e   5\n",
      "d   8\n",
      "l5\n",
      "     l2\n",
      "a  1.0\n",
      "b  2.0\n",
      "e  NaN\n",
      "d  4.0\n",
      "l6\n",
      "     l4\n",
      "a  1.0\n",
      "b  2.0\n",
      "c  NaN\n",
      "d  8.0\n",
      "l8    l2\n",
      "a   1\n",
      "type(l8) <class 'pandas.core.frame.DataFrame'>\n"
     ]
    }
   ],
   "source": [
    "l1 = ['a', 'b', 'c', 'd']\n",
    "l2 = [1,2,3,4]\n",
    "\n",
    "l3 = ['a','b','e','d']\n",
    "l4 = [1,2,5,8]\n",
    "\n",
    "import pandas as pd\n",
    "\n",
    "one = pd.DataFrame({'l2':l2})\n",
    "one.index = l1\n",
    "print(one)\n",
    "two = pd.DataFrame({'l4':l4})\n",
    "two.index = l3\n",
    "print(two)\n",
    "l5 = one.reindex(two.index)\n",
    "print('l5\\n',l5)\n",
    "l6 = two.reindex(one.index)\n",
    "print('l6\\n',l6)\n",
    "\n",
    "l7 = ['a']\n",
    "\n",
    "l8 = one.reindex(l7)\n",
    "print('l8',l8)\n",
    "print('type(l8)',type(l8))"
   ]
  },
  {
   "cell_type": "code",
   "execution_count": 26,
   "metadata": {},
   "outputs": [
    {
     "name": "stdout",
     "output_type": "stream",
     "text": [
      "<class 'pandas.core.series.Series'>\n",
      "8\n"
     ]
    }
   ],
   "source": [
    "# converting pandas series object to int\n",
    "print(type(two.iloc[3]))\n",
    "print(int(two.iloc[3]))"
   ]
  }
 ],
 "metadata": {
  "kernelspec": {
   "display_name": "Python 3",
   "language": "python",
   "name": "python3"
  },
  "language_info": {
   "codemirror_mode": {
    "name": "ipython",
    "version": 3
   },
   "file_extension": ".py",
   "mimetype": "text/x-python",
   "name": "python",
   "nbconvert_exporter": "python",
   "pygments_lexer": "ipython3",
   "version": "3.7.2"
  }
 },
 "nbformat": 4,
 "nbformat_minor": 2
}
