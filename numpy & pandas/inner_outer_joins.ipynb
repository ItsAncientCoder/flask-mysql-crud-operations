{
 "cells": [
  {
   "cell_type": "code",
   "execution_count": 25,
   "metadata": {},
   "outputs": [
    {
     "name": "stdout",
     "output_type": "stream",
     "text": [
      "array([[0.1, 1.1, 2.1, 3.1],\n",
      "       [4.1, 5.1, 6.1, 7.1]])\n",
      "array([[0.2, 1.2, 2.2],\n",
      "       [3.2, 4.2, 5.2]])\n",
      "array([[ 0.3,  1.3,  2.3,  3.3],\n",
      "       [ 4.3,  5.3,  6.3,  7.3],\n",
      "       [ 8.3,  9.3, 10.3, 11.3]])\n"
     ]
    }
   ],
   "source": [
    "import numpy as np\n",
    "import pandas as pd\n",
    "from pprint import pprint as pp\n",
    "\n",
    "A = np.arange(8).reshape(2,4) + 0.1\n",
    "B = np.arange(6).reshape(2,3) + 0.2\n",
    "C = np.arange(12).reshape(3,4) + 0.3\n",
    "\n",
    "pp(A)\n",
    "pp(B)\n",
    "pp(C)"
   ]
  },
  {
   "cell_type": "code",
   "execution_count": 26,
   "metadata": {},
   "outputs": [
    {
     "name": "stdout",
     "output_type": "stream",
     "text": [
      "array([[0.1, 1.1, 2.1, 3.1, 0.2, 1.2, 2.2],\n",
      "       [4.1, 5.1, 6.1, 7.1, 3.2, 4.2, 5.2]])\n",
      "array([[0.1, 1.1, 2.1, 3.1, 0.2, 1.2, 2.2],\n",
      "       [4.1, 5.1, 6.1, 7.1, 3.2, 4.2, 5.2]])\n"
     ]
    }
   ],
   "source": [
    "pp(np.hstack([A,B]))\n",
    "pp(np.concatenate([A,B],axis=1))"
   ]
  },
  {
   "cell_type": "code",
   "execution_count": 28,
   "metadata": {},
   "outputs": [
    {
     "name": "stdout",
     "output_type": "stream",
     "text": [
      "array([[ 0.1,  1.1,  2.1,  3.1],\n",
      "       [ 4.1,  5.1,  6.1,  7.1],\n",
      "       [ 0.3,  1.3,  2.3,  3.3],\n",
      "       [ 4.3,  5.3,  6.3,  7.3],\n",
      "       [ 8.3,  9.3, 10.3, 11.3]])\n",
      "array([[ 0.1,  1.1,  2.1,  3.1],\n",
      "       [ 4.1,  5.1,  6.1,  7.1],\n",
      "       [ 0.3,  1.3,  2.3,  3.3],\n",
      "       [ 4.3,  5.3,  6.3,  7.3],\n",
      "       [ 8.3,  9.3, 10.3, 11.3]])\n"
     ]
    }
   ],
   "source": [
    "pp(np.vstack([A,C]))\n",
    "pp(np.concatenate([A,C],axis=0))"
   ]
  },
  {
   "cell_type": "code",
   "execution_count": null,
   "metadata": {},
   "outputs": [],
   "source": []
  }
 ],
 "metadata": {
  "kernelspec": {
   "display_name": "Python 3",
   "language": "python",
   "name": "python3"
  },
  "language_info": {
   "codemirror_mode": {
    "name": "ipython",
    "version": 3
   },
   "file_extension": ".py",
   "mimetype": "text/x-python",
   "name": "python",
   "nbconvert_exporter": "python",
   "pygments_lexer": "ipython3",
   "version": "3.7.3"
  }
 },
 "nbformat": 4,
 "nbformat_minor": 4
}
