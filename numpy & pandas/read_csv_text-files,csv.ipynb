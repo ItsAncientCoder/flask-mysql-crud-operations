{
 "cells": [
  {
   "cell_type": "code",
   "execution_count": 30,
   "metadata": {},
   "outputs": [
    {
     "data": {
      "text/html": [
       "<div>\n",
       "<style scoped>\n",
       "    .dataframe tbody tr th:only-of-type {\n",
       "        vertical-align: middle;\n",
       "    }\n",
       "\n",
       "    .dataframe tbody tr th {\n",
       "        vertical-align: top;\n",
       "    }\n",
       "\n",
       "    .dataframe thead th {\n",
       "        text-align: right;\n",
       "    }\n",
       "</style>\n",
       "<table border=\"1\" class=\"dataframe\">\n",
       "  <thead>\n",
       "    <tr style=\"text-align: right;\">\n",
       "      <th></th>\n",
       "      <th>year_one_tens</th>\n",
       "      <th>someyear</th>\n",
       "      <th>2o</th>\n",
       "      <th>tt</th>\n",
       "    </tr>\n",
       "  </thead>\n",
       "  <tbody>\n",
       "    <tr>\n",
       "      <th>0</th>\n",
       "      <td>1818-01-11</td>\n",
       "      <td>1818.004</td>\n",
       "      <td>NaN</td>\n",
       "      <td>1</td>\n",
       "    </tr>\n",
       "    <tr>\n",
       "      <th>1</th>\n",
       "      <td>1818-01-12</td>\n",
       "      <td>1818.034</td>\n",
       "      <td>NaN</td>\n",
       "      <td>1</td>\n",
       "    </tr>\n",
       "    <tr>\n",
       "      <th>2</th>\n",
       "      <td>1818-01-13</td>\n",
       "      <td>1818.037</td>\n",
       "      <td>22.0</td>\n",
       "      <td>1</td>\n",
       "    </tr>\n",
       "    <tr>\n",
       "      <th>3</th>\n",
       "      <td>1818-01-14</td>\n",
       "      <td>1818.012</td>\n",
       "      <td>32.0</td>\n",
       "      <td>1</td>\n",
       "    </tr>\n",
       "    <tr>\n",
       "      <th>4</th>\n",
       "      <td>1818-01-15</td>\n",
       "      <td>1818.032</td>\n",
       "      <td>NaN</td>\n",
       "      <td>1</td>\n",
       "    </tr>\n",
       "    <tr>\n",
       "      <th>5</th>\n",
       "      <td>1818-01-16</td>\n",
       "      <td>1818.026</td>\n",
       "      <td>NaN</td>\n",
       "      <td>1</td>\n",
       "    </tr>\n",
       "    <tr>\n",
       "      <th>6</th>\n",
       "      <td>1818-01-17</td>\n",
       "      <td>1818.056</td>\n",
       "      <td>54.0</td>\n",
       "      <td>1</td>\n",
       "    </tr>\n",
       "    <tr>\n",
       "      <th>7</th>\n",
       "      <td>1818-01-18</td>\n",
       "      <td>1818.076</td>\n",
       "      <td>NaN</td>\n",
       "      <td>1</td>\n",
       "    </tr>\n",
       "    <tr>\n",
       "      <th>8</th>\n",
       "      <td>1818-01-19</td>\n",
       "      <td>1818.088</td>\n",
       "      <td>34.0</td>\n",
       "      <td>1</td>\n",
       "    </tr>\n",
       "  </tbody>\n",
       "</table>\n",
       "</div>"
      ],
      "text/plain": [
       "  year_one_tens  someyear    2o  tt\n",
       "0    1818-01-11  1818.004   NaN   1\n",
       "1    1818-01-12  1818.034   NaN   1\n",
       "2    1818-01-13  1818.037  22.0   1\n",
       "3    1818-01-14  1818.012  32.0   1\n",
       "4    1818-01-15  1818.032   NaN   1\n",
       "5    1818-01-16  1818.026   NaN   1\n",
       "6    1818-01-17  1818.056  54.0   1\n",
       "7    1818-01-18  1818.076   NaN   1\n",
       "8    1818-01-19  1818.088  34.0   1"
      ]
     },
     "execution_count": 30,
     "metadata": {},
     "output_type": "execute_result"
    }
   ],
   "source": [
    "import pandas as pd\n",
    "\n",
    "col_names = ['year','one','tens','someyear','2o','tt']\n",
    "df = pd.read_csv(\"data.csv\", header=None, names=col_names, na_values=-1, parse_dates=[[0,1,2]])\n",
    "df.to_excel('dataaa.xlsx', index=False)\n",
    "dfe = pd.read_excel('dataaa.xlsx')\n",
    "dfe"
   ]
  },
  {
   "cell_type": "code",
   "execution_count": 44,
   "metadata": {},
   "outputs": [
    {
     "name": "stdout",
     "output_type": "stream",
     "text": [
      "            0         1     2  3\n",
      "0  1818-01-11  1818.004   NaN  1\n",
      "1  1818-01-12  1818.034   NaN  1\n",
      "2  1818-01-13  1818.037  22.0  1\n",
      "3  1818-01-14  1818.012  32.0  1\n",
      "4  1818-01-15  1818.032   NaN  1\n",
      "5  1818-01-16  1818.026   NaN  1\n",
      "6  1818-01-17  1818.056  54.0  1\n",
      "7  1818-01-18  1818.076   NaN  1\n",
      "8  1818-01-19  1818.088  34.0  1\n"
     ]
    }
   ],
   "source": [
    "tx = pd.read_fwf('data.txt',index_col=False, header=None)\n",
    "print(tx)"
   ]
  }
 ],
 "metadata": {
  "kernelspec": {
   "display_name": "Python 3",
   "language": "python",
   "name": "python3"
  },
  "language_info": {
   "codemirror_mode": {
    "name": "ipython",
    "version": 3
   },
   "file_extension": ".py",
   "mimetype": "text/x-python",
   "name": "python",
   "nbconvert_exporter": "python",
   "pygments_lexer": "ipython3",
   "version": "3.7.2"
  }
 },
 "nbformat": 4,
 "nbformat_minor": 2
}
