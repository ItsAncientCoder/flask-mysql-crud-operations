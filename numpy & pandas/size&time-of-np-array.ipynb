{
 "cells": [
  {
   "cell_type": "code",
   "execution_count": null,
   "metadata": {},
   "outputs": [],
   "source": [
    "import numpy as np\n",
    "import sys\n",
    "import time"
   ]
  },
  {
   "cell_type": "code",
   "execution_count": null,
   "metadata": {},
   "outputs": [],
   "source": [
    "# normal array and size\n",
    "normal_array = range(1000)\n",
    "print(sys.getsizeof(4) * len(normal_array))\n",
    "\n",
    "# np array and size\n",
    "np_array = np.arange(1000)\n",
    "print(np_array.itemsize * np_array.size)"
   ]
  },
  {
   "cell_type": "code",
   "execution_count": 16,
   "metadata": {},
   "outputs": [
    {
     "name": "stdout",
     "output_type": "stream",
     "text": [
      "time for normal array: 1.4502630233764648\n",
      "time for np array: 0.02215862274169922\n",
      "False\n"
     ]
    }
   ],
   "source": [
    "SIZE = 10000000\n",
    "L1 = range(SIZE)\n",
    "L2 = range(SIZE)\n",
    "\n",
    "N1 = np.arange(SIZE)\n",
    "N2 = np.arange(SIZE)\n",
    "\n",
    "start = time.time()\n",
    "\n",
    "sum_normal_array = [ x+y for x,y in zip(L1,L2)]\n",
    "print('time for normal array:', (time.time()-start))\n",
    "\n",
    "start = time.time()\n",
    "sum_np_array = N1 + N2\n",
    "print('time for np array:', (time.time()-start))\n",
    "\n",
    "print(sys.getsizeof(sum_normal_array) < sys.getsizeof(sum_np_array))"
   ]
  },
  {
   "cell_type": "code",
   "execution_count": null,
   "metadata": {},
   "outputs": [],
   "source": []
  }
 ],
 "metadata": {
  "kernelspec": {
   "display_name": "Python 3",
   "language": "python",
   "name": "python3"
  },
  "language_info": {
   "codemirror_mode": {
    "name": "ipython",
    "version": 3
   },
   "file_extension": ".py",
   "mimetype": "text/x-python",
   "name": "python",
   "nbconvert_exporter": "python",
   "pygments_lexer": "ipython3",
   "version": "3.7.2"
  }
 },
 "nbformat": 4,
 "nbformat_minor": 2
}
