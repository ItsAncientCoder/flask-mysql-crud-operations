{
 "cells": [
  {
   "cell_type": "markdown",
   "metadata": {},
   "source": [
    "#### **Create time series data for testing**"
   ]
  },
  {
   "cell_type": "code",
   "execution_count": 15,
   "metadata": {},
   "outputs": [
    {
     "data": {
      "text/html": [
       "<div>\n",
       "<style scoped>\n",
       "    .dataframe tbody tr th:only-of-type {\n",
       "        vertical-align: middle;\n",
       "    }\n",
       "\n",
       "    .dataframe tbody tr th {\n",
       "        vertical-align: top;\n",
       "    }\n",
       "\n",
       "    .dataframe thead th {\n",
       "        text-align: right;\n",
       "    }\n",
       "</style>\n",
       "<table border=\"1\" class=\"dataframe\">\n",
       "  <thead>\n",
       "    <tr style=\"text-align: right;\">\n",
       "      <th></th>\n",
       "      <th>A</th>\n",
       "      <th>B</th>\n",
       "      <th>C</th>\n",
       "      <th>D</th>\n",
       "    </tr>\n",
       "  </thead>\n",
       "  <tbody>\n",
       "    <tr>\n",
       "      <th>2000-01-01</th>\n",
       "      <td>-0.675828</td>\n",
       "      <td>0.424219</td>\n",
       "      <td>-0.276450</td>\n",
       "      <td>0.591251</td>\n",
       "    </tr>\n",
       "    <tr>\n",
       "      <th>2000-01-02</th>\n",
       "      <td>-0.409587</td>\n",
       "      <td>-0.485634</td>\n",
       "      <td>-0.325292</td>\n",
       "      <td>-0.586518</td>\n",
       "    </tr>\n",
       "    <tr>\n",
       "      <th>2000-01-03</th>\n",
       "      <td>0.669503</td>\n",
       "      <td>-0.121472</td>\n",
       "      <td>-0.587667</td>\n",
       "      <td>-1.434240</td>\n",
       "    </tr>\n",
       "    <tr>\n",
       "      <th>2000-01-04</th>\n",
       "      <td>-1.206056</td>\n",
       "      <td>-0.412663</td>\n",
       "      <td>-0.237147</td>\n",
       "      <td>2.284959</td>\n",
       "    </tr>\n",
       "    <tr>\n",
       "      <th>2000-01-05</th>\n",
       "      <td>-0.940677</td>\n",
       "      <td>-0.016952</td>\n",
       "      <td>-1.217390</td>\n",
       "      <td>1.522565</td>\n",
       "    </tr>\n",
       "  </tbody>\n",
       "</table>\n",
       "</div>"
      ],
      "text/plain": [
       "                   A         B         C         D\n",
       "2000-01-01 -0.675828  0.424219 -0.276450  0.591251\n",
       "2000-01-02 -0.409587 -0.485634 -0.325292 -0.586518\n",
       "2000-01-03  0.669503 -0.121472 -0.587667 -1.434240\n",
       "2000-01-04 -1.206056 -0.412663 -0.237147  2.284959\n",
       "2000-01-05 -0.940677 -0.016952 -1.217390  1.522565"
      ]
     },
     "execution_count": 15,
     "metadata": {},
     "output_type": "execute_result"
    }
   ],
   "source": [
    "import pandas as pd\n",
    "\n",
    "num_rows = 365 * 24 #8760\n",
    "\n",
    "df = pd.util.testing.makeTimeDataFrame(num_rows, freq='D') \n",
    "# H for hours\n",
    "\n",
    "df.head()"
   ]
  },
  {
   "cell_type": "code",
   "execution_count": null,
   "metadata": {},
   "outputs": [],
   "source": []
  }
 ],
 "metadata": {
  "kernelspec": {
   "display_name": "Python 3",
   "language": "python",
   "name": "python3"
  },
  "language_info": {
   "codemirror_mode": {
    "name": "ipython",
    "version": 3
   },
   "file_extension": ".py",
   "mimetype": "text/x-python",
   "name": "python",
   "nbconvert_exporter": "python",
   "pygments_lexer": "ipython3",
   "version": "3.7.4"
  }
 },
 "nbformat": 4,
 "nbformat_minor": 4
}
