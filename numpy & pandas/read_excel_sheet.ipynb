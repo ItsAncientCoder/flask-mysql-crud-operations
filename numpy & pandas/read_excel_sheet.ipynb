{
 "cells": [
  {
   "cell_type": "code",
   "execution_count": 33,
   "metadata": {},
   "outputs": [
    {
     "data": {
      "image/png": "[encoded data removed]",
      "text/plain": [
       "<Figure size 432x288 with 1 Axes>"
      ]
     },
     "metadata": {
      "needs_background": "light"
     },
     "output_type": "display_data"
    },
    {
     "data": {
      "text/html": [
       "<div>\n",
       "<style scoped>\n",
       "    .dataframe tbody tr th:only-of-type {\n",
       "        vertical-align: middle;\n",
       "    }\n",
       "\n",
       "    .dataframe tbody tr th {\n",
       "        vertical-align: top;\n",
       "    }\n",
       "\n",
       "    .dataframe thead th {\n",
       "        text-align: right;\n",
       "    }\n",
       "</style>\n",
       "<table border=\"1\" class=\"dataframe\">\n",
       "  <thead>\n",
       "    <tr style=\"text-align: right;\">\n",
       "      <th></th>\n",
       "      <th>Transaction Date</th>\n",
       "      <th>Transaction Remarks</th>\n",
       "      <th>Withdrawal Amount (INR )</th>\n",
       "      <th>Deposit Amount (INR )</th>\n",
       "      <th>Balance (INR )</th>\n",
       "    </tr>\n",
       "    <tr>\n",
       "      <th>Value Date</th>\n",
       "      <th></th>\n",
       "      <th></th>\n",
       "      <th></th>\n",
       "      <th></th>\n",
       "      <th></th>\n",
       "    </tr>\n",
       "  </thead>\n",
       "  <tbody>\n",
       "    <tr>\n",
       "      <th>2019-05-04</th>\n",
       "      <td>2019-05-04</td>\n",
       "      <td>UPI/909519089510/Payment</td>\n",
       "      <td>0.0</td>\n",
       "      <td>1000.0</td>\n",
       "      <td>11129.4</td>\n",
       "    </tr>\n",
       "    <tr>\n",
       "      <th>2019-04-17</th>\n",
       "      <td>2019-04-17</td>\n",
       "      <td>MMT/IMPS/910702847290/no</td>\n",
       "      <td>10000.0</td>\n",
       "      <td>0.0</td>\n",
       "      <td>1129.4</td>\n",
       "    </tr>\n",
       "    <tr>\n",
       "      <th>2019-04-18</th>\n",
       "      <td>2019-04-18</td>\n",
       "      <td>BIL/ONL/001688672093/BAN</td>\n",
       "      <td>828.0</td>\n",
       "      <td>0.0</td>\n",
       "      <td>301.4</td>\n",
       "    </tr>\n",
       "    <tr>\n",
       "      <th>2019-04-19</th>\n",
       "      <td>2019-04-19</td>\n",
       "      <td>MMT/IMPS/910919163414/no</td>\n",
       "      <td>0.0</td>\n",
       "      <td>12500.0</td>\n",
       "      <td>12801.4</td>\n",
       "    </tr>\n",
       "    <tr>\n",
       "      <th>2019-04-19</th>\n",
       "      <td>2019-04-19</td>\n",
       "      <td>MMT/IMPS/910919164465/no</td>\n",
       "      <td>0.0</td>\n",
       "      <td>1000.0</td>\n",
       "      <td>13801.4</td>\n",
       "    </tr>\n",
       "  </tbody>\n",
       "</table>\n",
       "</div>"
      ],
      "text/plain": [
       "           Transaction Date       Transaction Remarks  \\\n",
       "Value Date                                              \n",
       "2019-05-04       2019-05-04  UPI/909519089510/Payment   \n",
       "2019-04-17       2019-04-17  MMT/IMPS/910702847290/no   \n",
       "2019-04-18       2019-04-18  BIL/ONL/001688672093/BAN   \n",
       "2019-04-19       2019-04-19  MMT/IMPS/910919163414/no   \n",
       "2019-04-19       2019-04-19  MMT/IMPS/910919164465/no   \n",
       "\n",
       "            Withdrawal Amount (INR )  Deposit Amount (INR )  Balance (INR )  \n",
       "Value Date                                                                   \n",
       "2019-05-04                       0.0                 1000.0         11129.4  \n",
       "2019-04-17                   10000.0                    0.0          1129.4  \n",
       "2019-04-18                     828.0                    0.0           301.4  \n",
       "2019-04-19                       0.0                12500.0         12801.4  \n",
       "2019-04-19                       0.0                 1000.0         13801.4  "
      ]
     },
     "execution_count": 33,
     "metadata": {},
     "output_type": "execute_result"
    }
   ],
   "source": [
    "import pandas as pd\n",
    "\n",
    "df = pd.read_excel('OpTransactionHistory15-07-2019.xls', parse_dates=True, index_col='S No.')\n",
    "df['Transaction Remarks'] = df['Transaction Remarks'].str[0:24]\n",
    "df['Value Date'] = df['Value Date'].apply(pd.to_datetime)\n",
    "#df['Value Date'] = df['Value Date'].astype('datetime64[ns]')\n",
    "df['Transaction Date'] = pd.to_datetime(df['Transaction Date'])\n",
    "#df['Transaction Date'] = df['Transaction Date'].astype('datetime64[ns]')\n",
    "df.drop(columns = ['Cheque Number'], axis=1, inplace=True)\n",
    "df.reset_index(level=0, inplace=True)\n",
    "df.drop(columns = ['S No.'], axis=1, inplace=True)\n",
    "df.set_index('Value Date', inplace=True)\n",
    "\n",
    "import matplotlib.pyplot as plt\n",
    "df['Withdrawal Amount (INR )'].plot()\n",
    "plt.show()\n",
    "df.head()"
   ]
  },
  {
   "cell_type": "code",
   "execution_count": 39,
   "metadata": {},
   "outputs": [],
   "source": [
    "import numpy as np"
   ]
  },
  {
   "cell_type": "code",
   "execution_count": 40,
   "metadata": {},
   "outputs": [
    {
     "data": {
      "text/plain": [
       "11.0"
      ]
     },
     "execution_count": 40,
     "metadata": {},
     "output_type": "execute_result"
    }
   ],
   "source": [
    "df['Balance (INR )'].iloc[0] = "
   ]
  }
 ],
 "metadata": {
  "kernelspec": {
   "display_name": "Python 3",
   "language": "python",
   "name": "python3"
  },
  "language_info": {
   "codemirror_mode": {
    "name": "ipython",
    "version": 3
   },
   "file_extension": ".py",
   "mimetype": "text/x-python",
   "name": "python",
   "nbconvert_exporter": "python",
   "pygments_lexer": "ipython3",
   "version": "3.7.2"
  }
 },
 "nbformat": 4,
 "nbformat_minor": 2
}
