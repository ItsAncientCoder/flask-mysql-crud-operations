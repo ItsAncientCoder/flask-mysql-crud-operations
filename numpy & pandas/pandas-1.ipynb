{
 "cells": [
  {
   "cell_type": "code",
   "execution_count": 22,
   "metadata": {},
   "outputs": [
    {
     "name": "stdout",
     "output_type": "stream",
     "text": [
      "       names   states  distances\n",
      "0      mahal   andhra        200\n",
      "1   kalakada       ap        400\n",
      "2  himalayas  kashmir       1000\n"
     ]
    }
   ],
   "source": [
    "import pandas as pd\n",
    "\n",
    "data = {\n",
    "    'names' : ['mahal', 'kalakada', 'himalayas'],\n",
    "    'states' : ['andhra', 'ap', 'kashmir'],\n",
    "    'distances' : [200, 400, 1000]\n",
    "}\n",
    "\n",
    "df = pd.DataFrame(data)\n",
    "print(df)"
   ]
  },
  {
   "cell_type": "code",
   "execution_count": 24,
   "metadata": {},
   "outputs": [
    {
     "name": "stdout",
     "output_type": "stream",
     "text": [
      "zipped dict data:\n",
      " {'names': ['mahal', 'kalakada', 'himalayas'], 'states': ['andhra', 'ap', 'kashmir'], 'distances': [200, 400, 1000]} \n",
      "\n",
      "       names   states  distances\n",
      "0      mahal   andhra        200\n",
      "1   kalakada       ap        400\n",
      "2  himalayas  kashmir       1000\n"
     ]
    }
   ],
   "source": [
    "# data in lists\n",
    "names = ['mahal', 'kalakada', 'himalayas']\n",
    "states = ['andhra', 'ap', 'kashmir']\n",
    "distances = [200, 400, 1000]\n",
    "\n",
    "labels = ['names', 'states', 'distances']\n",
    "values = [names, states, distances]\n",
    "\n",
    "zipped = dict(zip(labels, values))\n",
    "print('zipped dict data:\\n',zipped, '\\n')\n",
    "dataframe_from_zipped = pd.DataFrame(zipped)\n",
    "print(dataframe_from_zipped)"
   ]
  },
  {
   "cell_type": "code",
   "execution_count": 30,
   "metadata": {},
   "outputs": [
    {
     "name": "stdout",
     "output_type": "stream",
     "text": [
      "   height sex\n",
      "0     2.2   M\n",
      "1    33.5   M\n",
      "2    45.5   M\n",
      "   height sex\n",
      "0     2.2   F\n",
      "1    33.5   F\n",
      "2    45.5   F\n",
      "   height(in cms) gender\n",
      "0             2.2      F\n",
      "1            33.5      F\n",
      "2            45.5      F\n",
      "   height(in cms) gender\n",
      "A             2.2      F\n",
      "B            33.5      F\n",
      "C            45.5      F\n"
     ]
    }
   ],
   "source": [
    "# BROADCASTING\n",
    "heights = [2.2, 33.5, 45.5]\n",
    "data1 = {'height': heights, 'sex':'M'}\n",
    "res = pd.DataFrame(data1)\n",
    "print(res)\n",
    "res['sex'] = 'F'\n",
    "print(res)\n",
    "res.columns = ['height(in cms)', 'gender']\n",
    "print(res)\n",
    "res.index = ['A', 'B', 'C']\n",
    "print(res)"
   ]
  },
  {
   "cell_type": "code",
   "execution_count": 34,
   "metadata": {},
   "outputs": [
    {
     "name": "stdout",
     "output_type": "stream",
     "text": [
      "(1, 2, 3, 4)\n"
     ]
    }
   ],
   "source": [
    "x,y,z =[1],[2],[3]\n",
    "for i in zip(x,y,z, [4]):\n",
    "    print(i)"
   ]
  }
 ],
 "metadata": {
  "kernelspec": {
   "display_name": "Python 3",
   "language": "python",
   "name": "python3"
  },
  "language_info": {
   "codemirror_mode": {
    "name": "ipython",
    "version": 3
   },
   "file_extension": ".py",
   "mimetype": "text/x-python",
   "name": "python",
   "nbconvert_exporter": "python",
   "pygments_lexer": "ipython3",
   "version": "3.7.2"
  }
 },
 "nbformat": 4,
 "nbformat_minor": 2
}
