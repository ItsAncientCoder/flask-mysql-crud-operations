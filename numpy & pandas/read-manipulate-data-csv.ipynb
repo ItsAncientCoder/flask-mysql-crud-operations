{
 "cells": [
  {
   "cell_type": "code",
   "execution_count": 3,
   "metadata": {},
   "outputs": [
    {
     "name": "stdout",
     "output_type": "stream",
     "text": [
      "   1818  1  11  1818.004  -1  1.1\n",
      "0  1818  1  12  1818.034  -1    1 \n",
      "\n",
      "   1818  1  11  1818.004  -1  1.1\n",
      "0  1818  1  12  1818.034  -1    1 \n",
      "\n",
      "      0  1   2         3  4  5\n",
      "0  1818  1  11  1818.004 -1  1 \n",
      "\n"
     ]
    }
   ],
   "source": [
    "import pandas as pd\n",
    "file = 'data.csv'\n",
    "\n",
    "df = pd.read_csv(file)\n",
    "print(df.head(1), '\\n')\n",
    "\n",
    "df = pd.read_csv(file, delimiter=',')\n",
    "print(df.head(1), '\\n')\n",
    "\n",
    "df = pd.read_csv(file, delimiter=',', header=None)\n",
    "print(df.head(1), '\\n')"
   ]
  },
  {
   "cell_type": "code",
   "execution_count": 4,
   "metadata": {},
   "outputs": [
    {
     "name": "stdout",
     "output_type": "stream",
     "text": [
      "   year  month  day  dec_date  sunspots  definite\n",
      "0  1818      1   11  1818.004        -1         1\n",
      "1  1818      1   12  1818.034        -1         1\n",
      "2  1818      1   13  1818.037        22         1\n",
      "3  1818      1   14  1818.012        32         1\n",
      "4  1818      1   15  1818.032        -1         1 \n",
      "\n",
      "   year  month  day  dec_date  sunspots  definite\n",
      "0  1818      1   11  1818.004       NaN         1\n",
      "1  1818      1   12  1818.034       NaN         1\n",
      "2  1818      1   13  1818.037      22.0         1\n",
      "3  1818      1   14  1818.012      32.0         1\n",
      "4  1818      1   15  1818.032       NaN         1\n"
     ]
    }
   ],
   "source": [
    "col_names = ['year', 'month', 'day', 'dec_date', 'sunspots', 'definite']\n",
    "sunspots = pd.read_csv(file, delimiter=',', header=None, names=col_names)\n",
    "print(sunspots.head(),'\\n')\n",
    "\n",
    "sunspots = pd.read_csv(file, delimiter=',', header=None, names=col_names, na_values={'sunspots':['-1']})\n",
    "print(sunspots.head())"
   ]
  },
  {
   "cell_type": "code",
   "execution_count": 5,
   "metadata": {},
   "outputs": [
    {
     "name": "stdout",
     "output_type": "stream",
     "text": [
      "  year_month_day  dec_date  sunspots  definite\n",
      "0     1818-01-11  1818.004       NaN         1\n",
      "1     1818-01-12  1818.034       NaN         1\n",
      "2     1818-01-13  1818.037      22.0         1\n",
      "3     1818-01-14  1818.012      32.0         1\n",
      "4     1818-01-15  1818.032       NaN         1\n"
     ]
    }
   ],
   "source": [
    "sunspots = pd.read_csv(file, delimiter=',', header=None, names=col_names, \n",
    "                       na_values={'sunspots':['-1']}, parse_dates = [[0,1,2]])\n",
    "print(sunspots.head())"
   ]
  },
  {
   "cell_type": "code",
   "execution_count": 6,
   "metadata": {},
   "outputs": [
    {
     "name": "stdout",
     "output_type": "stream",
     "text": [
      "           year_month_day  dec_date  sunspots  definite\n",
      "date                                                   \n",
      "1818-01-11     1818-01-11  1818.004       NaN         1\n",
      "1818-01-12     1818-01-12  1818.034       NaN         1\n",
      "1818-01-13     1818-01-13  1818.037      22.0         1\n",
      "1818-01-14     1818-01-14  1818.012      32.0         1\n",
      "1818-01-15     1818-01-15  1818.032       NaN         1\n"
     ]
    }
   ],
   "source": [
    "sunspots.index = sunspots['year_month_day']\n",
    "sunspots.index.name = 'date'\n",
    "print(sunspots.head())"
   ]
  },
  {
   "cell_type": "code",
   "execution_count": 9,
   "metadata": {},
   "outputs": [
    {
     "name": "stdout",
     "output_type": "stream",
     "text": [
      "            sunspots  definite\n",
      "date                          \n",
      "1818-01-11       NaN         1\n",
      "1818-01-12       NaN         1\n",
      "1818-01-13      22.0         1\n",
      "1818-01-14      32.0         1\n",
      "1818-01-15       NaN         1\n",
      "         date  sunspots  definite\n",
      "0  1818-01-11       NaN         1\n",
      "1  1818-01-12       NaN         1\n",
      "2  1818-01-13      22.0         1\n",
      "3  1818-01-14      32.0         1\n",
      "4  1818-01-15       NaN         1\n"
     ]
    }
   ],
   "source": [
    "cols = ['sunspots', 'definite']\n",
    "sunspots = sunspots[cols]\n",
    "print(sunspots.head())\n",
    "\n",
    "sunspots.to_csv('data_new.csv')\n",
    "df = pd.read_csv('data_new.csv')\n",
    "print(df.head())"
   ]
  },
  {
   "cell_type": "code",
   "execution_count": null,
   "metadata": {},
   "outputs": [],
   "source": []
  }
 ],
 "metadata": {
  "kernelspec": {
   "display_name": "Python 3",
   "language": "python",
   "name": "python3"
  }
 },
 "nbformat": 4,
 "nbformat_minor": 2
}
