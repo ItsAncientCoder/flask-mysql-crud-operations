{
 "cells": [
  {
   "cell_type": "code",
   "execution_count": 72,
   "metadata": {},
   "outputs": [],
   "source": [
    "import pandas as pd\n",
    "from pprint import pprint as pp\n",
    "\n",
    "raw_data = {'regiment': ['Nighthawks', 'Nighthawks', 'Nighthawks', 'Nighthawks', 'Dragoons', 'Dragoons', 'Dragoons', 'Dragoons', 'Scouts', 'Scouts', 'Scouts', 'Scouts'], \n",
    "        'company': ['1st', '1st', '2nd', '2nd', '1st', '1st', '2nd', '2nd','1st', '1st', '2nd', '2nd'], \n",
    "        'name': ['Miller', 'Jacobson', 'Ali', 'Milner', 'Cooze', 'Jacon', 'Ryaner', 'Sone', 'Sloan', 'Piger', 'Riani', 'Ali'], \n",
    "        'preTestScore': [4, 24, 31, 2, 3, 4, 24, 31, 2, 3, 2, 3],\n",
    "        'postTestScore': [25, 94, 57, 62, 70, 25, 94, 57, 62, 70, 62, 70]}\n",
    "columns = ['regiment', 'company', 'name', 'preTestScore', 'postTestScore']\n",
    "df = pd.DataFrame(raw_data, columns=columns)\n",
    "df = df.set_index(['preTestScore', 'name'])"
   ]
  },
  {
   "cell_type": "code",
   "execution_count": 73,
   "metadata": {},
   "outputs": [],
   "source": [
    "df = df.reset_index()\n",
    "df = df.set_index(['preTestScore','postTestScore'])\n",
    "df.index.names = [ind_name[:3] for ind_name in df.index.names]\n",
    "df = df.sort_index()"
   ]
  },
  {
   "cell_type": "code",
   "execution_count": 74,
   "metadata": {},
   "outputs": [],
   "source": [
    "df = df.reset_index()\n",
    "df = df.set_index(['regiment', 'company'])"
   ]
  },
  {
   "cell_type": "code",
   "execution_count": 100,
   "metadata": {},
   "outputs": [
    {
     "name": "stdout",
     "output_type": "stream",
     "text": [
      "                  pre  pos   name\n",
      "REGIMENT COMPANY                 \n",
      "Dragoons 1st        3   70  Cooze\n",
      "         1st        4   25  Jacon\n",
      "-------------------------\n",
      "                    pos  pre\n",
      "REGIMENT   COMPANY          \n",
      "Dragoons   2nd       94   24\n",
      "           2nd       57   31\n",
      "Nighthawks 2nd       62    2\n",
      "           2nd       57   31\n",
      "Scouts     2nd       62    2\n",
      "           2nd       70    3\n",
      "-------------------------\n",
      "                        name\n",
      "REGIMENT   COMPANY          \n",
      "Dragoons   1st         Cooze\n",
      "           1st         Jacon\n",
      "           2nd        Ryaner\n",
      "           2nd          Sone\n",
      "Nighthawks 1st        Miller\n",
      "           1st      Jacobson\n",
      "           2nd        Milner\n",
      "           2nd           Ali\n",
      "Scouts     1st         Sloan\n",
      "           1st         Piger\n",
      "           2nd         Riani\n",
      "           2nd           Ali\n",
      "-------------------------\n",
      "                    pre  pos      name\n",
      "REGIMENT   COMPANY                    \n",
      "Dragoons   1st        3   70     Cooze\n",
      "           1st        4   25     Jacon\n",
      "           2nd       24   94    Ryaner\n",
      "           2nd       31   57      Sone\n",
      "Nighthawks 1st        4   25    Miller\n",
      "           1st       24   94  Jacobson\n",
      "           2nd        2   62    Milner\n",
      "           2nd       31   57       Ali\n",
      "-------------------------\n",
      "                        name  pre  pos\n",
      "REGIMENT   COMPANY                    \n",
      "Dragoons   1st         Cooze    3   70\n",
      "           1st         Jacon    4   25\n",
      "           2nd        Ryaner   24   94\n",
      "           2nd          Sone   31   57\n",
      "Nighthawks 1st        Miller    4   25\n",
      "           1st      Jacobson   24   94\n",
      "           2nd        Milner    2   62\n",
      "           2nd           Ali   31   57\n",
      "Scouts     1st         Sloan    2   62\n",
      "           1st         Piger    3   70\n",
      "           2nd         Riani    2   62\n",
      "           2nd           Ali    3   70\n"
     ]
    }
   ],
   "source": [
    "df = df.sort_index()\n",
    "df.index.names = [n.upper() for n in df.index.names]\n",
    "pp(df.loc[('Dragoons','1st'),:])\n",
    "print('-------------------------')\n",
    "pp(df.loc[(slice(None),'2nd'),['pos','pre']])\n",
    "print('-------------------------')\n",
    "pp(df.loc[:,['name']])\n",
    "print('-------------------------')\n",
    "pp(df.loc[(['Dragoons','Nighthawks'], slice(None)),:])\n",
    "print('-------------------------')\n",
    "pp(df.loc[(slice(None), slice(None)),['name','pre','pos']])"
   ]
  }
 ],
 "metadata": {
  "kernelspec": {
   "display_name": "Python 3",
   "language": "python",
   "name": "python3"
  },
  "language_info": {
   "codemirror_mode": {
    "name": "ipython",
    "version": 3
   },
   "file_extension": ".py",
   "mimetype": "text/x-python",
   "name": "python",
   "nbconvert_exporter": "python",
   "pygments_lexer": "ipython3",
   "version": "3.7.2"
  }
 },
 "nbformat": 4,
 "nbformat_minor": 4
}
