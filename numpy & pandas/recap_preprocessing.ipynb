{
 "cells": [
  {
   "cell_type": "code",
   "execution_count": 13,
   "metadata": {},
   "outputs": [],
   "source": [
    "import numpy as np\n",
    "\n",
    "from sklearn.preprocessing import MinMaxScaler, StandardScaler"
   ]
  },
  {
   "cell_type": "code",
   "execution_count": 14,
   "metadata": {},
   "outputs": [],
   "source": [
    "min_max_scaler = MinMaxScaler()"
   ]
  },
  {
   "cell_type": "code",
   "execution_count": 7,
   "metadata": {},
   "outputs": [],
   "source": [
    "mat = np.random.randint(0,100,(10,2))"
   ]
  },
  {
   "cell_type": "code",
   "execution_count": 8,
   "metadata": {},
   "outputs": [
    {
     "data": {
      "text/plain": [
       "array([[74, 78],\n",
       "       [92, 61],\n",
       "       [77, 24],\n",
       "       [ 9, 48],\n",
       "       [61, 13],\n",
       "       [80, 20],\n",
       "       [97, 16],\n",
       "       [73, 73],\n",
       "       [81, 54],\n",
       "       [ 8, 57]])"
      ]
     },
     "execution_count": 8,
     "metadata": {},
     "output_type": "execute_result"
    }
   ],
   "source": [
    "mat"
   ]
  },
  {
   "cell_type": "code",
   "execution_count": 12,
   "metadata": {},
   "outputs": [
    {
     "data": {
      "text/plain": [
       "array([[0.74157303, 1.        ],\n",
       "       [0.94382022, 0.73846154],\n",
       "       [0.7752809 , 0.16923077],\n",
       "       [0.01123596, 0.53846154],\n",
       "       [0.59550562, 0.        ],\n",
       "       [0.80898876, 0.10769231],\n",
       "       [1.        , 0.04615385],\n",
       "       [0.73033708, 0.92307692],\n",
       "       [0.82022472, 0.63076923],\n",
       "       [0.        , 0.67692308]])"
      ]
     },
     "execution_count": 12,
     "metadata": {},
     "output_type": "execute_result"
    }
   ],
   "source": [
    "min_max_scaler.fit_transform(mat)"
   ]
  },
  {
   "cell_type": "code",
   "execution_count": 15,
   "metadata": {},
   "outputs": [],
   "source": [
    "standard_scaler = StandardScaler()"
   ]
  },
  {
   "cell_type": "code",
   "execution_count": 17,
   "metadata": {},
   "outputs": [
    {
     "data": {
      "text/plain": [
       "array([[ 0.29458635,  1.46081434],\n",
       "       [ 0.89714935,  0.72171185],\n",
       "       [ 0.39501352, -0.88692299],\n",
       "       [-1.88133558,  0.15651582],\n",
       "       [-0.14059803, -1.36516578],\n",
       "       [ 0.49544069, -1.06082946],\n",
       "       [ 1.06452796, -1.23473593],\n",
       "       [ 0.26111063,  1.24343125],\n",
       "       [ 0.52891641,  0.41737552],\n",
       "       [-1.9148113 ,  0.54780538]])"
      ]
     },
     "execution_count": 17,
     "metadata": {},
     "output_type": "execute_result"
    }
   ],
   "source": [
    "standard_scaler.fit_transform(mat)"
   ]
  },
  {
   "cell_type": "code",
   "execution_count": 18,
   "metadata": {},
   "outputs": [
    {
     "data": {
      "text/plain": [
       "(-1.9148112984013241, 1.460814336985883)"
      ]
     },
     "execution_count": 18,
     "metadata": {},
     "output_type": "execute_result"
    }
   ],
   "source": [
    "standard_scaler.fit_transform(mat).min(), standard_scaler.fit_transform(mat).max()"
   ]
  },
  {
   "cell_type": "code",
   "execution_count": null,
   "metadata": {},
   "outputs": [],
   "source": []
  }
 ],
 "metadata": {
  "kernelspec": {
   "display_name": "Python 3",
   "language": "python",
   "name": "python3"
  },
  "language_info": {
   "codemirror_mode": {
    "name": "ipython",
    "version": 3
   },
   "file_extension": ".py",
   "mimetype": "text/x-python",
   "name": "python",
   "nbconvert_exporter": "python",
   "pygments_lexer": "ipython3",
   "version": "3.7.4"
  }
 },
 "nbformat": 4,
 "nbformat_minor": 4
}
