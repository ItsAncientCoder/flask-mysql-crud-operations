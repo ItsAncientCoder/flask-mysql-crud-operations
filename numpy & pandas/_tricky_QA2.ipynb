{
 "cells": [
  {
   "cell_type": "code",
   "execution_count": 5,
   "metadata": {},
   "outputs": [],
   "source": [
    "import pandas as pd"
   ]
  },
  {
   "cell_type": "code",
   "execution_count": null,
   "metadata": {},
   "outputs": [],
   "source": [
    "df = pd.read_csv('http://bit.ly/kaggletrain')"
   ]
  },
  {
   "cell_type": "markdown",
   "metadata": {},
   "source": [
    "#### **Check dtypes within the Series**"
   ]
  },
  {
   "cell_type": "code",
   "execution_count": 5,
   "metadata": {},
   "outputs": [
    {
     "data": {
      "text/plain": [
       "<class 'float'>    687\n",
       "<class 'str'>      204\n",
       "Name: Cabin, dtype: int64"
      ]
     },
     "execution_count": 5,
     "metadata": {},
     "output_type": "execute_result"
    }
   ],
   "source": [
    "df.Cabin.apply(type).value_counts(dropna=False)"
   ]
  },
  {
   "cell_type": "markdown",
   "metadata": {},
   "source": [
    "## **Currency cleanup in mixed datatype columns**"
   ]
  },
  {
   "cell_type": "code",
   "execution_count": 16,
   "metadata": {},
   "outputs": [
    {
     "name": "stdout",
     "output_type": "stream",
     "text": [
      "   carname    price\n",
      "0  maruthi   $1,000\n",
      "1    honda     2000\n",
      "2   yamaha  $40,200\n"
     ]
    }
   ],
   "source": [
    "# prepare dataframe\n",
    "\n",
    "data_map = {\n",
    "    'carname':['maruthi','honda','yamaha'],\n",
    "    'price': ['$1,000', 2000, '$40,200']\n",
    "}\n",
    "\n",
    "cars_orig = pd.DataFrame(data_map)\n",
    "\n",
    "print(cars_orig.head())"
   ]
  },
  {
   "cell_type": "code",
   "execution_count": 18,
   "metadata": {},
   "outputs": [
    {
     "name": "stdout",
     "output_type": "stream",
     "text": [
      "<class 'str'>    2\n",
      "<class 'int'>    1\n",
      "Name: price, dtype: int64 \n",
      "\n",
      "<class 'float'>    3\n",
      "Name: price, dtype: int64 \n",
      "\n"
     ]
    }
   ],
   "source": [
    "# method 1\n",
    "cars1 = cars_orig.copy()\n",
    "\n",
    "print(cars1.price.apply(type).value_counts(),'\\n')\n",
    "\n",
    "cars1.price = cars1.price.apply(lambda x: x.replace('$','').replace(',','') if isinstance(x,str) else x).apply(float)\n",
    "\n",
    "print(cars1.price.apply(type).value_counts(),'\\n')"
   ]
  },
  {
   "cell_type": "code",
   "execution_count": 20,
   "metadata": {},
   "outputs": [
    {
     "name": "stdout",
     "output_type": "stream",
     "text": [
      "<class 'str'>    2\n",
      "<class 'int'>    1\n",
      "Name: price, dtype: int64 \n",
      "\n",
      "<class 'float'>    3\n",
      "Name: price, dtype: int64 \n",
      "\n"
     ]
    }
   ],
   "source": [
    "# method 2\n",
    "cars2 = cars_orig.copy()\n",
    "\n",
    "print(cars2.price.apply(type).value_counts(),'\\n')\n",
    "\n",
    "cars2.price = cars2.price.replace({'\\$':'', ',':''},regex=True).astype(float)\n",
    "\n",
    "print(cars2.price.apply(type).value_counts(),'\\n')"
   ]
  },
  {
   "cell_type": "code",
   "execution_count": 21,
   "metadata": {},
   "outputs": [],
   "source": [
    "# method 3\n",
    "\n",
    "# Specify the column type while reading the file itself\n",
    "\n",
    "# df = pd.read_excel('data.xlsx', dtype={'price':str})\n",
    "\n",
    "# then perform normal replace operation.\n",
    "\n",
    "#Example: df['price'] = df['price'].str.replace(',','').str.replace('$','').astype('float')"
   ]
  },
  {
   "cell_type": "markdown",
   "metadata": {},
   "source": [
    "## **Combine Multiple Excel Worksheets Into a Single Pandas Dataframe**"
   ]
  },
  {
   "cell_type": "code",
   "execution_count": 23,
   "metadata": {},
   "outputs": [],
   "source": [
    "workbook_url = 'https://github.com/chris1610/pbpython/raw/master/data/2018_Sales_Total_Tabs.xlsx'\n",
    "\n",
    "all_dfs = pd.read_excel(workbook_url, sheet_name=None)"
   ]
  },
  {
   "cell_type": "code",
   "execution_count": 25,
   "metadata": {},
   "outputs": [
    {
     "data": {
      "text/plain": [
       "odict_keys(['Sheet1', 'Sheet2', 'Sheet3', 'Sheet4', 'Sheet5', 'Sheet6'])"
      ]
     },
     "execution_count": 25,
     "metadata": {},
     "output_type": "execute_result"
    }
   ],
   "source": [
    "all_dfs.keys()"
   ]
  },
  {
   "cell_type": "code",
   "execution_count": 26,
   "metadata": {},
   "outputs": [
    {
     "data": {
      "text/html": [
       "<div>\n",
       "<style scoped>\n",
       "    .dataframe tbody tr th:only-of-type {\n",
       "        vertical-align: middle;\n",
       "    }\n",
       "\n",
       "    .dataframe tbody tr th {\n",
       "        vertical-align: top;\n",
       "    }\n",
       "\n",
       "    .dataframe thead th {\n",
       "        text-align: right;\n",
       "    }\n",
       "</style>\n",
       "<table border=\"1\" class=\"dataframe\">\n",
       "  <thead>\n",
       "    <tr style=\"text-align: right;\">\n",
       "      <th></th>\n",
       "      <th>account number</th>\n",
       "      <th>name</th>\n",
       "      <th>sku</th>\n",
       "      <th>quantity</th>\n",
       "      <th>unit price</th>\n",
       "      <th>ext price</th>\n",
       "      <th>date</th>\n",
       "    </tr>\n",
       "  </thead>\n",
       "  <tbody>\n",
       "    <tr>\n",
       "      <th>0</th>\n",
       "      <td>412290</td>\n",
       "      <td>Jerde-Hilpert</td>\n",
       "      <td>S2-77896</td>\n",
       "      <td>43</td>\n",
       "      <td>76.66</td>\n",
       "      <td>3296.38</td>\n",
       "      <td>2018-03-04 23:10:28</td>\n",
       "    </tr>\n",
       "    <tr>\n",
       "      <th>1</th>\n",
       "      <td>383080</td>\n",
       "      <td>Will LLC</td>\n",
       "      <td>S1-93683</td>\n",
       "      <td>28</td>\n",
       "      <td>90.86</td>\n",
       "      <td>2544.08</td>\n",
       "      <td>2018-03-05 05:11:49</td>\n",
       "    </tr>\n",
       "    <tr>\n",
       "      <th>2</th>\n",
       "      <td>729833</td>\n",
       "      <td>Koepp Ltd</td>\n",
       "      <td>S1-30248</td>\n",
       "      <td>13</td>\n",
       "      <td>44.84</td>\n",
       "      <td>582.92</td>\n",
       "      <td>2018-03-05 17:33:52</td>\n",
       "    </tr>\n",
       "    <tr>\n",
       "      <th>3</th>\n",
       "      <td>424914</td>\n",
       "      <td>White-Trantow</td>\n",
       "      <td>S2-82423</td>\n",
       "      <td>38</td>\n",
       "      <td>50.93</td>\n",
       "      <td>1935.34</td>\n",
       "      <td>2018-03-05 21:40:10</td>\n",
       "    </tr>\n",
       "    <tr>\n",
       "      <th>4</th>\n",
       "      <td>672390</td>\n",
       "      <td>Kuhn-Gusikowski</td>\n",
       "      <td>S1-50961</td>\n",
       "      <td>34</td>\n",
       "      <td>48.20</td>\n",
       "      <td>1638.80</td>\n",
       "      <td>2018-03-06 11:59:00</td>\n",
       "    </tr>\n",
       "  </tbody>\n",
       "</table>\n",
       "</div>"
      ],
      "text/plain": [
       "   account number             name       sku  quantity  unit price  ext price  \\\n",
       "0          412290    Jerde-Hilpert  S2-77896        43       76.66    3296.38   \n",
       "1          383080         Will LLC  S1-93683        28       90.86    2544.08   \n",
       "2          729833        Koepp Ltd  S1-30248        13       44.84     582.92   \n",
       "3          424914    White-Trantow  S2-82423        38       50.93    1935.34   \n",
       "4          672390  Kuhn-Gusikowski  S1-50961        34       48.20    1638.80   \n",
       "\n",
       "                 date  \n",
       "0 2018-03-04 23:10:28  \n",
       "1 2018-03-05 05:11:49  \n",
       "2 2018-03-05 17:33:52  \n",
       "3 2018-03-05 21:40:10  \n",
       "4 2018-03-06 11:59:00  "
      ]
     },
     "execution_count": 26,
     "metadata": {},
     "output_type": "execute_result"
    }
   ],
   "source": [
    "all_dfs['Sheet1'].head()"
   ]
  },
  {
   "cell_type": "code",
   "execution_count": 29,
   "metadata": {},
   "outputs": [
    {
     "data": {
      "text/plain": [
       "(299, 7)"
      ]
     },
     "execution_count": 29,
     "metadata": {},
     "output_type": "execute_result"
    }
   ],
   "source": [
    "df_all_together = pd.concat(all_dfs, ignore_index=True)\n",
    "\n",
    "df_all_together.shape"
   ]
  },
  {
   "cell_type": "code",
   "execution_count": 31,
   "metadata": {},
   "outputs": [
    {
     "data": {
      "text/plain": [
       "(299, 7)"
      ]
     },
     "execution_count": 31,
     "metadata": {},
     "output_type": "execute_result"
    }
   ],
   "source": [
    "## One  line\n",
    "\n",
    "df_all_one_shot = pd.concat(pd.read_excel(workbook_url, sheet_name=None), ignore_index=True)\n",
    "\n",
    "df_all_one_shot.shape\n",
    "\n",
    "#end"
   ]
  },
  {
   "cell_type": "markdown",
   "metadata": {},
   "source": [
    "#### **Specify column type on loading the file itself**"
   ]
  },
  {
   "cell_type": "code",
   "execution_count": 24,
   "metadata": {},
   "outputs": [
    {
     "name": "stdout",
     "output_type": "stream",
     "text": [
      "names    object\n",
      "ages      int64\n",
      "dtype: object \n",
      "\n",
      "names    object\n",
      "ages     object\n",
      "dtype: object\n"
     ]
    }
   ],
   "source": [
    "data_dict = {\n",
    "    'names': ['bandham','seenu','balaji'],\n",
    "    'ages': [35,27,20]\n",
    "}\n",
    "\n",
    "data_dtypes = { 'names': 'str', 'ages': 'str' }\n",
    "\n",
    "data_df = pd.DataFrame(data_dict)\n",
    "print(data_df.dtypes, '\\n')\n",
    "\n",
    "file_name = 'test_data.csv';\n",
    "data_df.to_csv(file_name, index=False);\n",
    "\n",
    "df_2 = pd.read_csv(file_name, dtype=data_dtypes)\n",
    "\n",
    "print(df_2.dtypes)"
   ]
  },
  {
   "cell_type": "code",
   "execution_count": null,
   "metadata": {},
   "outputs": [],
   "source": []
  }
 ],
 "metadata": {
  "kernelspec": {
   "display_name": "Python 3",
   "language": "python",
   "name": "python3"
  },
  "language_info": {
   "codemirror_mode": {
    "name": "ipython",
    "version": 3
   },
   "file_extension": ".py",
   "mimetype": "text/x-python",
   "name": "python",
   "nbconvert_exporter": "python",
   "pygments_lexer": "ipython3",
   "version": "3.7.4"
  }
 },
 "nbformat": 4,
 "nbformat_minor": 4
}
