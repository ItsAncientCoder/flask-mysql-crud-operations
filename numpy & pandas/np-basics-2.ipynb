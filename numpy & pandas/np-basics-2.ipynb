{
 "cells": [
  {
   "cell_type": "code",
   "execution_count": 1,
   "metadata": {},
   "outputs": [],
   "source": [
    "import matplotlib.pyplot as plt\n",
    "import numpy as np"
   ]
  },
  {
   "cell_type": "code",
   "execution_count": 23,
   "metadata": {},
   "outputs": [
    {
     "name": "stdout",
     "output_type": "stream",
     "text": [
      "[[[0 0 0 0]\n",
      "  [0 0 0 0]\n",
      "  [0 0 0 0]]\n",
      "\n",
      " [[0 0 0 0]\n",
      "  [0 0 0 0]\n",
      "  [0 0 0 0]]]\n",
      "[[0.4968958  0.16881793]\n",
      " [0.40329743 0.84303647]]\n",
      "[[0. 0.]\n",
      " [0. 0.]\n",
      " [0. 0.]]\n",
      "[[1. 1. 1. 1.]\n",
      " [1. 1. 1. 1.]\n",
      " [1. 1. 1. 1.]]\n",
      "[[7 7]\n",
      " [7 7]]\n",
      "[10 15 20]\n",
      "[0.   0.25 0.5  0.75 1.   1.25 1.5  1.75 2.  ]\n",
      "[[1. 0. 0. 0.]\n",
      " [0. 1. 0. 0.]\n",
      " [0. 0. 1. 0.]\n",
      " [0. 0. 0. 1.]]\n",
      "<memory at 0x000002AD2D117048>\n"
     ]
    }
   ],
   "source": [
    "a = np.array([(1,2,3),(4,5,6)])\n",
    "b = np.sin(a)\n",
    "print(np.zeros((2,3,4),dtype=np.int16))\n",
    "print(np.random.random((2,2)))\n",
    "print(np.empty((3,2)))\n",
    "print(np.ones((3,4)))\n",
    "print(np.full((2,2),7))\n",
    "print(np.arange(10,25,5))\n",
    "print(np.linspace(0,2,9))\n",
    "print(np.eye(4))\n",
    "print(np.identity(4))"
   ]
  }
 ],
 "metadata": {
  "kernelspec": {
   "display_name": "Python 3",
   "language": "python",
   "name": "python3"
  },
  "language_info": {
   "codemirror_mode": {
    "name": "ipython",
    "version": 3
   },
   "file_extension": ".py",
   "mimetype": "text/x-python",
   "name": "python",
   "nbconvert_exporter": "python",
   "pygments_lexer": "ipython3",
   "version": "3.7.2"
  }
 },
 "nbformat": 4,
 "nbformat_minor": 2
}
