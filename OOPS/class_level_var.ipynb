{
 "cells": [
  {
   "cell_type": "code",
   "execution_count": 2,
   "metadata": {},
   "outputs": [
    {
     "name": "stdout",
     "output_type": "stream",
     "text": [
      "Tesla\n",
      "FB\n",
      "FB\n"
     ]
    }
   ],
   "source": [
    "class Computer:\n",
    "    copy_rights = 'inter'\n",
    "    \n",
    "    def __init__(self):\n",
    "        self.name = 'Asus'\n",
    "\n",
    "c1 = Computer()\n",
    "c2 = Computer()\n",
    "\n",
    "Computer.copy_rights = 'GOOGLE'\n",
    "\n",
    "c1.copy_rights = 'Tesla'\n",
    "\n",
    "Computer.copy_rights = 'FB'\n",
    "\n",
    "c3 = Computer()\n",
    "\n",
    "print(c1.copy_rights)\n",
    "print(c2.copy_rights)\n",
    "print(c3.copy_rights)"
   ]
  },
  {
   "cell_type": "code",
   "execution_count": 9,
   "metadata": {},
   "outputs": [
    {
     "name": "stdout",
     "output_type": "stream",
     "text": [
      "ZPHS\n",
      "Response from static method.\n"
     ]
    }
   ],
   "source": [
    "class Student:\n",
    "    \n",
    "    school = 'ZPHS'\n",
    "    \n",
    "    @classmethod\n",
    "    def get_school(cls):\n",
    "        return cls.school\n",
    "    \n",
    "    @staticmethod\n",
    "    def someStaticMethod():\n",
    "        return 'Response from static method.';\n",
    "\n",
    "s1 = Student()\n",
    "print(Student.get_school())\n",
    "print(Student.someStaticMethod())"
   ]
  },
  {
   "cell_type": "code",
   "execution_count": 17,
   "metadata": {},
   "outputs": [
    {
     "name": "stdout",
     "output_type": "stream",
     "text": [
      "feature 1\n",
      "feature 2\n",
      "feature 3\n",
      "feature 4\n"
     ]
    }
   ],
   "source": [
    "# Inheritance\n",
    "\n",
    "class A:\n",
    "    def feature1(self):\n",
    "        print('feature 1')\n",
    "    def feature2(self):\n",
    "        print('feature 2')\n",
    "\n",
    "class B(A):\n",
    "    def feature3(self):\n",
    "        print('feature 3')\n",
    "    def feature4(self):\n",
    "        print('feature 4')\n",
    "        \n",
    "b = B()\n",
    "b.feature1()\n",
    "b.feature2()\n",
    "b.feature3()\n",
    "b.feature4()\n",
    "\n"
   ]
  },
  {
   "cell_type": "code",
   "execution_count": 21,
   "metadata": {},
   "outputs": [
    {
     "name": "stdout",
     "output_type": "stream",
     "text": [
      "feature 1\n",
      "feature 2\n",
      "feature 3\n",
      "feature 4\n",
      "feature 5\n",
      "feature 6\n"
     ]
    }
   ],
   "source": [
    "# Multiple Inheritance\n",
    "\n",
    "class A:\n",
    "    def feature1(self):\n",
    "        print('feature 1')\n",
    "    def feature2(self):\n",
    "        print('feature 2')\n",
    "\n",
    "class B:\n",
    "    def feature3(self):\n",
    "        print('feature 3')\n",
    "    def feature4(self):\n",
    "        print('feature 4')\n",
    "        \n",
    "class C(A,B):\n",
    "    def feature5(self):\n",
    "        print('feature 5')\n",
    "    def feature6(self):\n",
    "        print('feature 6')\n",
    "        \n",
    "c = C()\n",
    "c.feature1()\n",
    "c.feature2()\n",
    "c.feature3()\n",
    "c.feature4()\n",
    "c.feature5()\n",
    "c.feature6()"
   ]
  },
  {
   "cell_type": "code",
   "execution_count": 26,
   "metadata": {},
   "outputs": [
    {
     "name": "stdout",
     "output_type": "stream",
     "text": [
      "init of A\n",
      "init of B\n"
     ]
    }
   ],
   "source": [
    "#Constructors in inheritance\n",
    "#Method Resolution Order MRO\n",
    "class A:\n",
    "    def __init__(self):\n",
    "        print('init of A')\n",
    "class B(A):\n",
    "    def __init__(self):\n",
    "        super().__init__()\n",
    "        print('init of B')\n",
    "b = B()"
   ]
  },
  {
   "cell_type": "code",
   "execution_count": 30,
   "metadata": {},
   "outputs": [
    {
     "name": "stdout",
     "output_type": "stream",
     "text": [
      "init of A\n",
      "init of C\n",
      "meth1 of A\n"
     ]
    }
   ],
   "source": [
    "#Constructors in inheritance\n",
    "#Method Resolution Order MRO\n",
    "class A:\n",
    "    def __init__(self):\n",
    "        print('init of A')\n",
    "    def meth1(self):\n",
    "        print('meth1 of A')\n",
    "\n",
    "class B:\n",
    "    def __init__(self):\n",
    "        print('init of B')\n",
    "    def meth1(self):\n",
    "        print('meth1 of B')\n",
    "        \n",
    "class C(A,B):\n",
    "    def __init__(self):\n",
    "        super().__init__()\n",
    "        print('init of C')\n",
    "c = C()\n",
    "c.meth1()"
   ]
  },
  {
   "cell_type": "code",
   "execution_count": 35,
   "metadata": {},
   "outputs": [
    {
     "name": "stdout",
     "output_type": "stream",
     "text": [
      "Phone B\n"
     ]
    }
   ],
   "source": [
    "#Method Overriding\n",
    "class A:\n",
    "    def phone(self):\n",
    "        print('Phone A')\n",
    "class B(A):\n",
    "    def phone(self):\n",
    "        print('Phone B')\n",
    "b = B()\n",
    "b.phone()"
   ]
  },
  {
   "cell_type": "code",
   "execution_count": 37,
   "metadata": {},
   "outputs": [
    {
     "data": {
      "text/plain": [
       "105000"
      ]
     },
     "execution_count": 37,
     "metadata": {},
     "output_type": "execute_result"
    }
   ],
   "source": [
    "7000 * 15"
   ]
  }
 ],
 "metadata": {
  "kernelspec": {
   "display_name": "Python 3",
   "language": "python",
   "name": "python3"
  },
  "language_info": {
   "codemirror_mode": {
    "name": "ipython",
    "version": 3
   },
   "file_extension": ".py",
   "mimetype": "text/x-python",
   "name": "python",
   "nbconvert_exporter": "python",
   "pygments_lexer": "ipython3",
   "version": "3.7.4"
  }
 },
 "nbformat": 4,
 "nbformat_minor": 4
}
