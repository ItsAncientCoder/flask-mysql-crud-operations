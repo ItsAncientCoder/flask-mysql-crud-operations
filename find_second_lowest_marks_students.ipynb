{
 "cells": [
  {
   "cell_type": "code",
   "execution_count": 1,
   "metadata": {},
   "outputs": [
    {
     "name": "stdout",
     "output_type": "stream",
     "text": [
      "Berry\n",
      "Harry\n",
      "********\n"
     ]
    }
   ],
   "source": [
    "names_marks = dict()\n",
    "names_marks['Harry'] = 37.21\n",
    "names_marks['Berry'] = 37.21\n",
    "names_marks['Tina'] = 37.2\n",
    "names_marks['Akriti'] = 41\n",
    "names_marks['Harsh'] = 39\n",
    "\n",
    "temp_names_marks = list()\n",
    "temp_names_marks = [ i[0]+'-'+str(i[1]) for i in names_marks.items() ]\n",
    "marks = set(names_marks.values())\n",
    "marks = sorted(marks)\n",
    "second_largest_marks = marks[1]\n",
    "names_second_largest = list()\n",
    "for i in temp_names_marks:\n",
    "    if str(second_largest_marks) in i:\n",
    "        names_second_largest.append(i.split('-')[0])\n",
    "names_second_largest.sort()\n",
    "for i in names_second_largest:\n",
    "    print(i)\n",
    "print(\"********\")"
   ]
  },
  {
   "cell_type": "code",
   "execution_count": 2,
   "metadata": {},
   "outputs": [
    {
     "name": "stdout",
     "output_type": "stream",
     "text": [
      "52.222\n",
      "Harshit\n",
      "Kant\n",
      "Kanti\n"
     ]
    }
   ],
   "source": [
    "names_marks = dict()\n",
    "names_marks['Prashant'] = 52.22\n",
    "names_marks['Kush'] = 52.223\n",
    "names_marks['Kant'] = 52.222\n",
    "names_marks['Kanti'] = 52.2222\n",
    "names_marks['Harshit'] = 52.22222\n",
    "temp_names_marks = list()\n",
    "temp_names_marks = [ i[0]+'-'+str(i[1]) for i in names_marks.items() ]\n",
    "marks = set(names_marks.values())\n",
    "marks = sorted(marks)\n",
    "second_largest_marks = str(marks[1])\n",
    "print(second_largest_marks)\n",
    "names_second_largest = list()\n",
    "for i in temp_names_marks:\n",
    "    if str(second_largest_marks) in i:\n",
    "        names_second_largest.append(i.split('-')[0])\n",
    "names_second_largest.sort()\n",
    "for i in names_second_largest:\n",
    "    print(i)"
   ]
  },
  {
   "cell_type": "code",
   "execution_count": 3,
   "metadata": {},
   "outputs": [
    {
     "name": "stdout",
     "output_type": "stream",
     "text": [
      "52.22222\n"
     ]
    }
   ],
   "source": [
    "import re\n",
    "\n",
    "string = '52.22222'\n",
    "result = re.findall('\\d+\\.\\d{'+str(len(string.split('.')[1]))+'}', str(52.22222))\n",
    "print(result[0])"
   ]
  },
  {
   "cell_type": "code",
   "execution_count": 10,
   "metadata": {},
   "outputs": [
    {
     "name": "stdout",
     "output_type": "stream",
     "text": [
      "Kant\n"
     ]
    }
   ],
   "source": [
    "indexs = list()\n",
    "for value in enumerate(names_marks.values()):\n",
    "    if second_largest_marks == str(value[1]):\n",
    "        indexs.append(value[0])\n",
    "names = list(names_marks.keys())\n",
    "results = list()\n",
    "for index in indexs:\n",
    "    key = names[index]\n",
    "    results.append(key)\n",
    "for i in results:\n",
    "    print(i)\n"
   ]
  }
 ],
 "metadata": {
  "kernelspec": {
   "display_name": "Python 3",
   "language": "python",
   "name": "python3"
  },
  "language_info": {
   "codemirror_mode": {
    "name": "ipython",
    "version": 3
   },
   "file_extension": ".py",
   "mimetype": "text/x-python",
   "name": "python",
   "nbconvert_exporter": "python",
   "pygments_lexer": "ipython3",
   "version": "3.7.2"
  }
 },
 "nbformat": 4,
 "nbformat_minor": 4
}
