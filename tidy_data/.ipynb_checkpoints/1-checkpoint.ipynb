{
 "cells": [
  {
   "cell_type": "code",
   "execution_count": 155,
   "metadata": {},
   "outputs": [
    {
     "name": "stdout",
     "output_type": "stream",
     "text": [
      "  row column  value\n",
      "0   A      a      1\n",
      "1   B      a      2\n",
      "2   C      a      3\n"
     ]
    }
   ],
   "source": [
    "import pandas as pd\n",
    "\n",
    "df = pd.read_csv('1.csv', header=None)\n",
    "df.columns = ['row', 'column', 'value']\n",
    "print(df.head(3))"
   ]
  },
  {
   "cell_type": "code",
   "execution_count": 158,
   "metadata": {},
   "outputs": [
    {
     "name": "stdout",
     "output_type": "stream",
     "text": [
      "column  a  b  c\n",
      "A       1  4  7\n",
      "B       2  5  8\n",
      "C       3  6  9\n"
     ]
    }
   ],
   "source": [
    "df1 = df.pivot_table(index='row',columns=['column'],values='value')\n",
    "df1.index = df1.reset_index()\n",
    "df1.index = df1.index.str.get(0)\n",
    "print(df1)"
   ]
  },
  {
   "cell_type": "code",
   "execution_count": 167,
   "metadata": {},
   "outputs": [
    {
     "name": "stderr",
     "output_type": "stream",
     "text": [
      "c:\\users\\ac29019\\appdata\\local\\programs\\python\\python37\\lib\\site-packages\\ipykernel_launcher.py:1: SettingWithCopyWarning: \n",
      "A value is trying to be set on a copy of a slice from a DataFrame\n",
      "\n",
      "See the caveats in the documentation: http://pandas.pydata.org/pandas-docs/stable/indexing.html#indexing-view-versus-copy\n",
      "  \"\"\"Entry point for launching an IPython kernel.\n"
     ]
    }
   ],
   "source": [
    "df.loc[:,'column'][df.shape[0]-1] = ''"
   ]
  },
  {
   "cell_type": "code",
   "execution_count": 171,
   "metadata": {},
   "outputs": [
    {
     "name": "stdout",
     "output_type": "stream",
     "text": [
      "column         a    b    c\n",
      "A       NaN  1.0  4.0  7.0\n",
      "B       NaN  2.0  5.0  8.0\n",
      "C       9.0  3.0  6.0  NaN\n"
     ]
    }
   ],
   "source": [
    "df2 = df.pivot_table(index='row',columns=['column'],values='value')\n",
    "df2.index = df2.reset_index()\n",
    "df2.index = df2.index.str.get(0)\n",
    "print(df2)"
   ]
  }
 ],
 "metadata": {
  "kernelspec": {
   "display_name": "Python 3",
   "language": "python",
   "name": "python3"
  },
  "language_info": {
   "codemirror_mode": {
    "name": "ipython",
    "version": 3
   },
   "file_extension": ".py",
   "mimetype": "text/x-python",
   "name": "python",
   "nbconvert_exporter": "python",
   "pygments_lexer": "ipython3",
   "version": "3.7.2"
  }
 },
 "nbformat": 4,
 "nbformat_minor": 4
}
